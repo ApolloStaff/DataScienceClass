{
 "cells": [
  {
   "cell_type": "markdown",
   "metadata": {},
   "source": [
    "## Assignment-5 (100 points)\n",
    "\n"
   ]
  },
  {
   "cell_type": "markdown",
   "metadata": {},
   "source": [
    "**LAST NAME, FIRST NAME**\n",
    "\n",
    "**R#**"
   ]
  },
  {
   "cell_type": "code",
   "execution_count": null,
   "metadata": {},
   "outputs": [],
   "source": [
    "# RUN this cell and do not modify it\n",
    "import sys\n",
    "! hostname\n",
    "! whoami\n",
    "print(sys.executable)\n",
    "print(sys.version)\n",
    "print(sys.version_info)"
   ]
  },
  {
   "cell_type": "markdown",
   "metadata": {},
   "source": [
    "---\n",
    "## Question 0 (20 pts): \n",
    "Create an external user-defined module (library) that once imported, provides access to a function that for any integer provided by the user, states whether it is an odd number or an even number. This module should be included as a python file (.py) in your submissions. Test your module for five numbers of your own selection."
   ]
  },
  {
   "cell_type": "code",
   "execution_count": 7,
   "metadata": {
    "tags": []
   },
   "outputs": [],
   "source": [
    "# Question 0 Code Goes Here\n"
   ]
  },
  {
   "cell_type": "markdown",
   "metadata": {},
   "source": [
    "---\n",
    "\n",
    "## Question 1 (20 pts): NumPy Playground\n",
    "\n",
    "### Instructions\n",
    "1. Create a 1-dimensional Array, named *my_arr* containing the elements **[9,8,7,6,5,4,3,2,1]**.\n",
    "2. Print the shape of *my_arr*.\n",
    "3. Create a 2-dimensional Array, named *my_mat* containing rows, each containing a copy of my_arr.\n",
    "4. Print the shape of *my_mat*.\n",
    "5. Create a new Array named *my_prod* and use it to store the result of the operation **my_arr * my_arr**.\n",
    "6. Print out *my_prod*\n",
    "7. Use the **np.sort** function to sort *my_prod* and store the result in a new Array named *my_prod_sorted*.\n",
    "8. Print out *my_prod_sorted*"
   ]
  },
  {
   "cell_type": "code",
   "execution_count": 12,
   "metadata": {
    "collapsed": false,
    "jupyter": {
     "outputs_hidden": false
    }
   },
   "outputs": [],
   "source": [
    "# Question 1 Code Goes Here\n",
    "import numpy as np\n"
   ]
  },
  {
   "cell_type": "markdown",
   "metadata": {},
   "source": [
    "****************************************************************************************************************"
   ]
  },
  {
   "cell_type": "markdown",
   "metadata": {},
   "source": [
    "## Question 2 (20 pts) Matrices:\n",
    "\n",
    "1. In Question 1, you created an array called *my_arr*. Use the **reshape** function to create a 3x3 matrix named *arr_reshaped*.\n",
    "2. Print out *arr_reshaped* to see the result.\n",
    "3. Use indexing to print out the last row of the matrix and print out the element at the center of the matrix.\n",
    "4. Create two 1-dimensional arrays named *X* and *Y* with the elements [3,9,5,4] and [1,8,7,6], respectively.\n",
    "5. Compute the dot product of *X* and *Y* and print the result."
   ]
  },
  {
   "cell_type": "code",
   "execution_count": 21,
   "metadata": {
    "collapsed": false,
    "jupyter": {
     "outputs_hidden": false
    }
   },
   "outputs": [],
   "source": [
    "# Question 2 Code Goes Here\n"
   ]
  },
  {
   "cell_type": "markdown",
   "metadata": {},
   "source": [
    "---\n",
    "\n",
    "## Question 3 (20 pts):\n",
    "Find the root of the function $y\\left(x\\right) = x^3-2x-5x$ using the bisection method and the secant method. Plot the function and the approximations from both methods."
   ]
  },
  {
   "cell_type": "code",
   "execution_count": 23,
   "metadata": {},
   "outputs": [],
   "source": [
    "# Question 3 Code Bisection Goes Here\n"
   ]
  },
  {
   "cell_type": "code",
   "execution_count": 23,
   "metadata": {},
   "outputs": [],
   "source": [
    "# Question 3 Code Secant Goes Here\n"
   ]
  },
  {
   "cell_type": "markdown",
   "metadata": {},
   "source": [
    "---\n",
    "\n",
    "## Question 4 - Working with Matplotlib (15 pts):\n",
    "\n",
    "Create a figure with two subplots (one row, two columns grid). In the first subplot, plot a scatter of a function of your choice. Define the function using the lambda function.\n",
    "\n",
    "In the second subplot, create a line graph of a function x**2 - 2. Set the x value to range from -5 to 5. Find the minimum of the function and annotate minimum (display on the same graph with the function) in the graph using the scatter() function."
   ]
  },
  {
   "cell_type": "code",
   "execution_count": null,
   "metadata": {},
   "outputs": [],
   "source": [
    "# Question 4 code goes here"
   ]
  },
  {
   "cell_type": "markdown",
   "metadata": {},
   "source": [
    "---\n",
    "\n",
    "## Question 5 - Use case of a finite differentiation (5 pts):\n",
    "## No need to provide an answer for this qusetion, run the code and see a use case of a finite difference method.\n",
    "\n",
    "You will simulate heat conduction along a metal rod using the finite difference method. The goal is to observe how the temperature evolves over time.\n",
    "\n",
    "### Given:\n",
    "- **Length of the rod \\(L\\)**: 1 meter\n",
    "- **Initial temperature distribution**: Uniform at 100°C\n",
    "- **Boundary conditions**: \n",
    "  - \\(u(0, t) = 100\\) °C (left end)\n",
    "  - \\(u(L, t) = 0\\) °C (right end)\n",
    "- **Total simulation time \\(T\\)**: 1 second\n",
    "- **Spatial step \\( Delta x\\)**: 0.1 m\n",
    "- **Time step \\( Delta t\\)**: 0.01 s\n",
    "- **Thermal diffusivity \\(alpha)**: 0.1 m²/s\n",
    "\n",
    "## Tasks\n",
    "\n",
    "1. Initialize the temperature distribution along the rod.\n",
    "2. Use the explicit finite difference method to update the temperature at each time step.\n",
    "3. Apply the boundary conditions at each time step.\n",
    "4. Visualize the temperature distribution at selected time intervals.\n",
    "\n",
    "  "
   ]
  },
  {
   "cell_type": "code",
   "execution_count": 25,
   "metadata": {},
   "outputs": [],
   "source": [
    "# EXAMPLE CODE STRUCTURE\n",
    "import numpy as np\n",
    "import matplotlib.pyplot as plt\n",
    "\n",
    "# Parameters\n",
    "L = 1.0           # Length of the rod\n",
    "alpha = 0.1       # Thermal diffusivity\n",
    "T = 1.0           # Total time\n",
    "dx = 0.1          # Spatial step\n",
    "dt = 0.01         # Time step\n",
    "\n",
    "# Discretization\n",
    "x = np.arange(0, L + dx, dx)\n",
    "Nx = len(x)\n",
    "time_steps = int(T / dt)\n",
    "\n",
    "# Initial condition\n",
    "u = np.ones(Nx) * 100  # Initial temperature: 100°C\n",
    "\n",
    "# Finite difference method\n",
    "for n in range(time_steps):\n",
    "    u_new = np.copy(u)\n",
    "    for i in range(1, Nx - 1):\n",
    "        u_new[i] = u[i] + alpha * dt / dx**2 * (u[i-1] - 2*u[i] + u[i+1])\n",
    "    \n",
    "    # Apply boundary conditions\n",
    "    u_new[0] = 100  # Left end\n",
    "    u_new[-1] = 0   # Right end\n",
    "    \n",
    "    u = u_new\n",
    "\n",
    "    # Visualization (plot every 10 steps)\n",
    "    if n % 10 == 0:\n",
    "        plt.plot(x, u, label=f'Time = {n*dt:.2f}s')\n",
    "\n",
    "# Final plot settings\n",
    "plt.title('Temperature Distribution along the Rod')\n",
    "plt.xlabel('Position along the rod (m)')\n",
    "plt.ylabel('Temperature (°C)')\n",
    "plt.legend()\n",
    "plt.grid()\n",
    "plt.show()\n"
   ]
  }
 ],
 "metadata": {
  "kernelspec": {
   "display_name": "Python 3 (ipykernel)",
   "language": "python",
   "name": "python3"
  },
  "language_info": {
   "codemirror_mode": {
    "name": "ipython",
    "version": 3
   },
   "file_extension": ".py",
   "mimetype": "text/x-python",
   "name": "python",
   "nbconvert_exporter": "python",
   "pygments_lexer": "ipython3",
   "version": "3.12.4"
  }
 },
 "nbformat": 4,
 "nbformat_minor": 4
}

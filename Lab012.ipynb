{
 "cells": [
  {
   "cell_type": "markdown",
   "metadata": {},
   "source": [
    "## <font color=darkred>Laboratory 12: Matplotlib for Jam! </font>"
   ]
  },
  {
   "cell_type": "code",
   "execution_count": null,
   "metadata": {},
   "outputs": [],
   "source": [
    "# Preamble script block to identify host, user, and kernel\n",
    "import sys\n",
    "! hostname\n",
    "! whoami\n",
    "print(sys.executable)\n",
    "print(sys.version)\n",
    "print(sys.version_info)"
   ]
  },
  {
   "cell_type": "markdown",
   "metadata": {},
   "source": [
    "## Full name: \n",
    "## R#: \n",
    "## Title of the notebook: \n",
    "## Date: \n",
    "___"
   ]
  },
  {
   "cell_type": "markdown",
   "metadata": {},
   "source": [
    "![](https://envato-shoebox-0.imgix.net/485c/f17a-904a-4a3d-a3aa-3c09708b07ea/rykibreadsa1.jpg?auto=compress%2Cformat&fit=max&mark=https%3A%2F%2Felements-assets.envato.com%2Fstatic%2Fwatermark2.png&markalign=center%2Cmiddle&markalpha=18&w=700&s=95061aa27f6c3a88147f5c13061cf255)"
   ]
  },
  {
   "cell_type": "markdown",
   "metadata": {},
   "source": [
    "![](https://matplotlib.org/1.4.2/mpl_examples/api/logo2.hires.png) <br>"
   ]
  },
  {
   "cell_type": "markdown",
   "metadata": {},
   "source": [
    "## <font color=purple>Matplotlip and Visual Display of Data</font>\n",
    "\n",
    "This lesson will introduce the `matplotlib` external module package, and examine how to construct\n",
    "line charts, scatter plots, bar charts, and histograms using methods in `matplotlib` and `pandas`\n",
    "\n",
    "The theory of histograms will appear in later lessons, here we only show how to construct one using `matplotlib`\n",
    "\n",
    "### <font color=purple>About `matplotlib`</font>\n",
    "\n",
    "Quoting from: https://matplotlib.org/tutorials/introductory/pyplot.html#sphx-glr-tutorials-introductory-pyplot-py\n",
    "\n",
    "`matplotlib.pyplot` is a collection of functions that make matplotlib work like MATLAB. Each pyplot function makes some change to a figure: e.g., creates a figure, creates a plotting area in a figure, plots some lines in a plotting area, decorates the plot with labels, etc.\n",
    "\n",
    "In `matplotlib.pyplot` various states are preserved across function calls, so that it keeps track of things like the current figure and plotting area, and the plotting functions are directed to the current axes (please note that \"axes\" here and in most places in the documentation refers to the axes part of a figure and not the strict mathematical term for more than one axis)."
   ]
  },
  {
   "cell_type": "markdown",
   "metadata": {},
   "source": [
    "### <font color=purple>Background</font>\n",
    "\n",
    "Data are not always numerical. \n",
    "Data can music (audio files), or places on a map (georeferenced attributes files), images (various imge files, e.g. .png, jpeg)\n",
    "\n",
    "They can also be categorical into which you can place individuals:\n",
    "- The individuals are cartons of ice-cream, and the category is the flavor in the carton\n",
    "- The individuals are professional basketball players, and the category is the player's team.\n",
    "\n",
    "### <font color=purple>Bar Graphs</font>\n",
    "\n",
    "Bar charts (graphs) are good display tools to graphically represent categorical information.\n",
    "The bars are evenly spaced and of constant width. \n",
    "The height/length of each bar is proportional to the `relative frequency` of the corresponding category.\n",
    "\n",
    "`Relative frequency` is the ratio of how many things in the category to how many things in the whole collection.\n",
    "\n",
    "The example below uses `matplotlib` to create a box plot for the ice cream analogy, the example is adapted from an example at https://www.geeksforgeeks.org/bar-plot-in-matplotlib/"
   ]
  },
  {
   "cell_type": "code",
   "execution_count": null,
   "metadata": {},
   "outputs": [],
   "source": [
    "ice_cream = {'Chocolate':16, 'Strawberry':5, 'Vanilla':9} # build a data model \n",
    "\n",
    "import matplotlib.pyplot # the python plotting library\n",
    "\n",
    "flavors = list(ice_cream.keys()) # make a list object based on flavors\n",
    "cartons = list(ice_cream.values()) # make a list object based on carton count -- assumes 1:1 association!\n",
    "\n",
    "myfigure = matplotlib.pyplot.figure(figsize = (10,5)) # generate a object from the figure class, set aspect ratio\n",
    "\n",
    "# Built the plot\n",
    "matplotlib.pyplot.bar(flavors, cartons, color ='maroon', width = 0.8) \n",
    "matplotlib.pyplot.xlabel(\"Flavors\") \n",
    "matplotlib.pyplot.ylabel(\"No. of Cartons in Stock\") \n",
    "matplotlib.pyplot.title(\"Current Ice Cream in Storage\") \n",
    "matplotlib.pyplot.show() "
   ]
  },
  {
   "cell_type": "markdown",
   "metadata": {},
   "source": [
    "Lets tidy up the script so it is more understandable, a small change in the import statement makes a simpler to read (for humans) script - also changed the bar colors just 'cause!"
   ]
  },
  {
   "cell_type": "code",
   "execution_count": null,
   "metadata": {},
   "outputs": [],
   "source": [
    "ice_cream = {'Chocolate':16, 'Strawberry':5, 'Vanilla':9} # build a data model \n",
    "import matplotlib.pyplot as plt # the python plotting library\n",
    "\n",
    "flavors = list(ice_cream.keys()) # make a list object based on flavors\n",
    "cartons = list(ice_cream.values()) # make a list object based on carton count -- assumes 1:1 association!\n",
    "\n",
    "myfigure = plt.figure(figsize = (10,5)) # generate a object from the figure class, set aspect ratio\n",
    "\n",
    "# Built the plot\n",
    "plt.bar(flavors, cartons, color ='orange', width = 0.8) \n",
    "plt.xlabel(\"Flavors\") \n",
    "plt.ylabel(\"No. of Cartons in Stock\") \n",
    "plt.title(\"Current Ice Cream in Storage\") \n",
    "plt.show() "
   ]
  },
  {
   "cell_type": "markdown",
   "metadata": {},
   "source": [
    "Using pandas, we can build bar charts a bit easier."
   ]
  },
  {
   "cell_type": "code",
   "execution_count": null,
   "metadata": {},
   "outputs": [],
   "source": [
    "import pandas as pd\n",
    "\n",
    "my_data = {\n",
    "    \"Flavor\": ['Chocolate', 'Strawberry', 'Vanilla'],\n",
    "    \"Number of Cartons\": [16, 5, 9]\n",
    "          }\n",
    "df = pd.DataFrame(my_data)\n",
    "df.head()"
   ]
  },
  {
   "cell_type": "code",
   "execution_count": null,
   "metadata": {},
   "outputs": [],
   "source": [
    "df.plot.bar(x='Flavor', y='Number of Cartons', color='magenta' )"
   ]
  },
  {
   "cell_type": "code",
   "execution_count": null,
   "metadata": {},
   "outputs": [],
   "source": [
    "df.plot.bar(x='Flavor', y='Number of Cartons', color=\"red\") # rotate the category labels"
   ]
  },
  {
   "cell_type": "markdown",
   "metadata": {},
   "source": [
    "<hr>\n",
    "\n",
    "### Example- Language Bars!\n",
    "\n",
    "Consider the data set \"data\" defined as\n",
    "\n",
    "    data = {'C':20, 'C++':15, 'Java':30, 'Python':35} \n",
    "    \n",
    "which lists student count by programming language in some school.\n",
    "\n",
    "Produce a bar chart of number of students in each language, where language is the classification, and student count is the variable.\n"
   ]
  },
  {
   "cell_type": "code",
   "execution_count": null,
   "metadata": {},
   "outputs": [],
   "source": [
    "# Code and run your solution here\n",
    "\n",
    "import numpy as np \n",
    "import matplotlib.pyplot as plt  \n",
    "  \n",
    "   \n",
    "# creating the dataset \n",
    "data = {'C':20, 'C++':15, 'Java':30,  \n",
    "        'Python':35} \n",
    "courses = list(data.keys()) \n",
    "values = list(data.values()) \n",
    "   \n",
    "fig = plt.figure(figsize = (10, 5)) \n",
    "  \n",
    "# creating the bar plot \n",
    "plt.bar(courses, values, color ='maroon',  \n",
    "        width = 0.4) \n",
    "  \n",
    "plt.xlabel(\"Courses offered\") \n",
    "plt.ylabel(\"No. of students enrolled\") \n",
    "plt.title(\"Students enrolled in different courses\") \n",
    "plt.show() \n"
   ]
  },
  {
   "cell_type": "markdown",
   "metadata": {},
   "source": [
    "### Plot it as a horizontal bar chart:"
   ]
  },
  {
   "cell_type": "code",
   "execution_count": null,
   "metadata": {},
   "outputs": [],
   "source": [
    "# Code and run your solution here\n",
    "\n",
    "# creating the dataset \n",
    "data = {'C':20, 'C++':15, 'Java':30,  \n",
    "        'Python':35} \n",
    "courses = list(data.keys()) \n",
    "values = list(data.values()) \n",
    "   \n",
    "fig = plt.figure(figsize = (10, 5)) \n",
    "  \n",
    "# creating the bar plot \n",
    "plt.barh(courses, values, color ='maroon',  height = 0.4) \n",
    "  \n",
    "plt.xlabel(\"Courses offered\") \n",
    "plt.ylabel(\"No. of students enrolled\") \n",
    "plt.title(\"Students enrolled in different courses\") \n",
    "plt.show() "
   ]
  },
  {
   "cell_type": "markdown",
   "metadata": {},
   "source": [
    "___\n",
    "### <font color=purple>Line Charts</font>\n",
    "\n",
    "A line chart or line plot or line graph or curve chart is a type of chart which displays information as a series of data points called 'markers' connected by straight line segments.\n",
    "\n",
    "It is a basic type of chart common in many fields. It is similar to a scatter plot (below) except that the measurement points are **ordered** (typically by their x-axis value) and joined with straight line segments. \n",
    "\n",
    "A line chart is often used to visualize a trend in data over intervals of time – a time series – thus the line is often drawn chronologically. \n",
    "\n",
    "The x-axis spacing is sometimes tricky, hence line charts can unintentionally decieve - so be careful that it is the appropriate chart for your application.  \n",
    "\n",
    "___\n",
    "### Example- Speed vs Time\n",
    "\n",
    "Consider the experimental data below\n",
    "\n",
    "|Elapsed Time (s)|Speed (m/s)|\n",
    "|---:|---:|\n",
    "|0 |0|\n",
    "|1.0 |3|\n",
    "|2.0 |7|\n",
    "|3.0 |12|\n",
    "|4.0 |20|\n",
    "|5.0 |30|\n",
    "|6.0 | 45.6| \n",
    "\n",
    "Show the relationship between time and speed.  Is the relationship indicating acceleration? How much?"
   ]
  },
  {
   "cell_type": "code",
   "execution_count": null,
   "metadata": {},
   "outputs": [],
   "source": [
    "# Create two lists; time  and speed.\n",
    "time = [0,1.0,2.0,3.0,4.0,5.0,6.0]\n",
    "speed = [0,3,7,12,20,30,45.6]"
   ]
  },
  {
   "cell_type": "code",
   "execution_count": null,
   "metadata": {},
   "outputs": [],
   "source": [
    "# Create a line chart of speed on y axis and time on x axis\n",
    "mydata = plt.figure(figsize = (10,5)) # build a square drawing canvass from figure class\n",
    "plt.plot(time, speed, c='red', marker='v',linewidth=1) # basic line plot\n",
    "plt.title(\"Speed over time\")\n",
    "plt.show()"
   ]
  },
  {
   "cell_type": "markdown",
   "metadata": {},
   "source": [
    "From examination of  the plot, estimate the speed at time t = 5.0 (eyeball estimate)"
   ]
  },
  {
   "cell_type": "markdown",
   "metadata": {},
   "source": [
    "<hr>\n",
    "\n",
    "### Example- Add a linear fit\n",
    "Using the same series from Exercise 1, Plot the speed vs time (speed on y-axis, time on x-axis) using a line plot. Plot a second line based on the linear model \n",
    "\n",
    "$$y = mx + b$$, \n",
    "\n",
    "where $$b=0~\\text{and}~m=7.6$$.\n"
   ]
  },
  {
   "cell_type": "code",
   "execution_count": null,
   "metadata": {},
   "outputs": [],
   "source": [
    "# Code and run your solution here:\n",
    "def ymodel(xmodel,slope,intercept):\n",
    "    ymodel = slope*xmodel+intercept\n",
    "    return(ymodel)\n",
    "\n",
    "yseries = []\n",
    "slope = 7.6\n",
    "intercept = 0.0\n",
    "\n",
    "for i in range(0,len(time)):\n",
    "    yseries.append(ymodel(time[i],slope,intercept))\n",
    "    \n",
    "# Create a markers only line chart\n",
    "mydata = plt.figure(figsize = (10,5)) # build a square drawing canvass from figure class\n",
    "plt.plot(time, speed, c='red', marker='^',linewidth=0.5) # basic line plot\n",
    "plt.plot(time, yseries, c='blue') \n",
    "plt.show()"
   ]
  },
  {
   "cell_type": "markdown",
   "metadata": {},
   "source": [
    "<hr>\n",
    "\n",
    "### Example- Find a better fit\n",
    "Using trial and error try to improve the 'fit' of the model, by adjusting values of $$m~\\text{and}~b$$."
   ]
  },
  {
   "cell_type": "code",
   "execution_count": null,
   "metadata": {},
   "outputs": [],
   "source": [
    "# Code and run your solution here:\n",
    "yseries = []\n",
    "slope = 7.6\n",
    "intercept = -8.0\n",
    "\n",
    "for i in range(0,len(time)):\n",
    "    yseries.append(ymodel(time[i],slope,intercept))\n",
    "\n",
    "# Create a markers only line chart\n",
    "mydata = plt.figure(figsize = (10,5)) # build a square drawing canvass from figure class\n",
    "plt.plot(time, speed, c='red', marker='^',linewidth=0) # basic scatter plot\n",
    "plt.plot(time, yseries, c='blue') \n",
    "plt.show()"
   ]
  },
  {
   "cell_type": "markdown",
   "metadata": {},
   "source": [
    "___\n",
    "### <font color=purple>Scatter Plots</font>\n",
    " \n",
    "A scatter plot (also called a scatterplot, scatter graph, scatter chart, scattergram, or scatter diagram) is a type of plot or mathematical diagram using Cartesian coordinates to display values for typically two variables for a set of data. If the points are coded (color/shape/size), one additional variable can be displayed. The data are displayed as a collection of points, each having the value of one variable determining the position on the horizontal axis and the value of the other variable determining the position on the vertical axis.\n",
    "\n",
    "A scatter plot can be used either when one continuous variable that is under the control of the experimenter and the other depends on it or when both continuous variables are independent. If a parameter exists that is systematically incremented and/or decremented by the other, it is called the control parameter or independent variable and is customarily plotted along the horizontal axis. The measured or dependent variable is customarily plotted along the vertical axis. If no dependent variable exists, either type of variable can be plotted on either axis and a scatter plot will illustrate only the degree of correlation (not causation) between two variables.\n",
    "\n",
    "A scatter plot can suggest various kinds of correlations between variables with a certain confidence interval. For example, weight and height, weight would be on y axis and height would be on the x axis. \n",
    "Correlations may be positive (rising), negative (falling), or null (uncorrelated). \n",
    "If the pattern of dots slopes from lower left to upper right, it indicates a positive correlation between the variables being studied. \n",
    "If the pattern of dots slopes from upper left to lower right, it indicates a negative correlation. \n",
    "\n",
    "A line of best fit (alternatively called 'trendline') can be drawn in order to study the relationship between the variables. An equation for the correlation between the variables can be determined by established best-fit procedures. For a linear correlation, the best-fit procedure is known as linear regression and is guaranteed to generate a correct solution in a finite time. No universal best-fit procedure is guaranteed to generate a  solution for arbitrary relationships. \n",
    "A scatter plot is also very useful when we wish to see how two comparable data sets agree and to show nonlinear relationships between variables.\n",
    "\n",
    "Furthermore, if the data are represented by a mixture model of simple relationships, these relationships will be visually evident as superimposed patterns.\n",
    "\n",
    "Scatter charts can be built in the form of bubble, marker, or/and line charts.\n",
    "\n",
    "Much of the above is verbatim/adapted from: https://en.wikipedia.org/wiki/Scatter_plot"
   ]
  },
  {
   "cell_type": "markdown",
   "metadata": {},
   "source": [
    "___ \n",
    "### Example- Examine the dataset with heights of fathers, mothers and sons"
   ]
  },
  {
   "cell_type": "code",
   "execution_count": null,
   "metadata": {},
   "outputs": [],
   "source": [
    "df = pd.read_csv('galton_subset.csv')\n",
    "df['child']= df['son'] ; df.drop('son', axis=1, inplace = True) # rename son to child - got to imagine there are some daughters\n",
    "df.head()"
   ]
  },
  {
   "cell_type": "code",
   "execution_count": null,
   "metadata": {},
   "outputs": [],
   "source": [
    "# build some lists\n",
    "dad = df['father'] ; mom = df['mother'] ; son = df['child']"
   ]
  },
  {
   "cell_type": "code",
   "execution_count": null,
   "metadata": {},
   "outputs": [],
   "source": [
    "myfamily = plt.figure(figsize = (10, 10)) # build a square drawing canvass from figure class\n",
    "plt.scatter(son, dad, c='red') # basic scatter plot\n",
    "plt.show()"
   ]
  },
  {
   "cell_type": "code",
   "execution_count": null,
   "metadata": {},
   "outputs": [],
   "source": [
    "# Looks lousy, needs some labels\n",
    "myfamily = plt.figure(figsize = (10, 10)) # build a square drawing canvass from figure class\n",
    "plt.scatter(son, dad, c='red' , label='Father') # one plot series\n",
    "plt.scatter(son, mom, c='blue', label='Mother') # two plot series\n",
    "plt.xlabel(\"Child's height\")\n",
    "plt.ylabel(\"Parents' height\")\n",
    "plt.legend()\n",
    "plt.show() # render the two plots"
   ]
  },
  {
   "cell_type": "code",
   "execution_count": null,
   "metadata": {},
   "outputs": [],
   "source": [
    "# Repeat in pandas - The dataframe already is built\n",
    "df.plot.scatter(x=\"child\", y=\"father\")"
   ]
  },
  {
   "cell_type": "code",
   "execution_count": null,
   "metadata": {},
   "outputs": [],
   "source": [
    "ax = df.plot.scatter(x=\"child\", y=\"father\", c=\"red\", label='Father')\n",
    "df.plot.scatter(x=\"child\", y=\"mother\", c=\"blue\", label='Mother', ax=ax)\n",
    "\n",
    "ax.set_xlabel(\"Child's height\")\n",
    "ax.set_ylabel(\"Parents' Height\")"
   ]
  },
  {
   "cell_type": "markdown",
   "metadata": {},
   "source": [
    "___\n",
    "### <font color=purple>Histograms</font>\n",
    " \n",
    "\n",
    "Quoting from https://en.wikipedia.org/wiki/Histogram\n",
    "\n",
    "\"A histogram is an approximate representation of the distribution of numerical data. It was first introduced by Karl Pearson.[1] To construct a histogram, the first step is to \"bin\" (or \"bucket\") the range of values—that is, divide the entire range of values into a series of intervals—and then count how many values fall into each interval. The bins are usually specified as consecutive, non-overlapping intervals of a variable. The bins (intervals) must be adjacent, and are often (but not required to be) of equal size.\n",
    "\n",
    "If the bins are of equal size, a rectangle is erected over the bin with height proportional to the frequency—the number of cases in each bin. A histogram may also be normalized to display \"relative\" frequencies. It then shows the proportion of cases that fall into each of several categories, with the sum of the heights equaling 1.\n",
    "\n",
    "However, bins need not be of equal width; in that case, the erected rectangle is defined to have its area proportional to the frequency of cases in the bin. The vertical axis is then not the frequency but frequency density—the number of cases per unit of the variable on the horizontal axis. Examples of variable bin width are displayed on Census bureau data below.\n",
    "\n",
    "As the adjacent bins leave no gaps, the rectangles of a histogram touch each other to indicate that the original variable is continuous.\n",
    "\n",
    "Histograms give a rough sense of the density of the underlying distribution of the data, and often for density estimation: estimating the probability density function of the underlying variable. The total area of a histogram used for probability density is always normalized to 1. If the length of the intervals on the x-axis are all 1, then a histogram is identical to a relative frequency plot.\n",
    "\n",
    "A histogram can be thought of as a simplistic kernel density estimation, which uses a kernel to smooth frequencies over the bins. This yields a smoother probability density function, which will in general more accurately reflect distribution of the underlying variable. The density estimate could be plotted as an alternative to the histogram, and is usually drawn as a curve rather than a set of boxes. Histograms are nevertheless preferred in applications, when their statistical properties need to be modeled. The correlated variation of a kernel density estimate is very difficult to describe mathematically, while it is simple for a histogram where each bin varies independently.\n",
    "\n",
    "An alternative to kernel density estimation is the average shifted histogram, which is fast to compute and gives a smooth curve estimate of the density without using kernels.\n",
    "\n",
    "The histogram is one of the seven basic tools of quality control.\n",
    "\n",
    "Histograms are sometimes confused with bar charts. A histogram is used for continuous data, where the bins represent ranges of data, while a bar chart is a plot of categorical variables. Some authors recommend that bar charts have gaps between the rectangles to clarify the distinction.\""
   ]
  },
  {
   "cell_type": "markdown",
   "metadata": {},
   "source": [
    "___\n",
    "### Example- Explore the \"top_movies\" dataset and draw histograms for Gross and Year."
   ]
  },
  {
   "cell_type": "code",
   "execution_count": null,
   "metadata": {},
   "outputs": [],
   "source": [
    "import pandas as pd\n",
    "\n",
    "df = pd.read_csv('top_movies.csv')\n",
    "df.head()"
   ]
  },
  {
   "cell_type": "code",
   "execution_count": null,
   "metadata": {},
   "outputs": [],
   "source": [
    "df[[\"Gross\"]].hist()"
   ]
  },
  {
   "cell_type": "code",
   "execution_count": null,
   "metadata": {},
   "outputs": [],
   "source": [
    "df[[\"Year\"]].hist()"
   ]
  },
  {
   "cell_type": "code",
   "execution_count": null,
   "metadata": {},
   "outputs": [],
   "source": [
    "df[[\"Gross\"]].hist(bins=100)"
   ]
  },
  {
   "cell_type": "markdown",
   "metadata": {},
   "source": [
    "---\n",
    "## Lab Exercise 12.0 (80 marks)\n",
    "Ensure you entered your full name and R Number in the top cell<br>\n",
    "Convert to PDF and submit both PDF and IPYNB\n",
    "___"
   ]
  },
  {
   "cell_type": "markdown",
   "metadata": {},
   "source": [
    ">### Engr1330 Performance\n",
    "```python\n",
    "import matplotlib.pyplot as plt\n",
    "import numpy as np\n",
    "plt.figure(figsize = (8, 4))\n",
    "x = ['John', 'Matthew', 'Sonya', 'Paul', 'Afam']\n",
    "y = [68, 75, 89, 99, 100]\n",
    "plt.bar(x, y, color = 'g')\n",
    "plt.xlabel('Students', fontsize = 18)\n",
    "plt.ylabel('Marks', fontsize = 18)\n",
    "#Default fontsize of text using legend\n",
    "plt.legend(['Marks scored'])\n",
    "plt.show()"
   ]
  },
  {
   "cell_type": "markdown",
   "metadata": {},
   "source": [
    "1. Change the fontsize of the labels to 18, fontsize of the legend to 15 and title to 22"
   ]
  },
  {
   "cell_type": "code",
   "execution_count": null,
   "metadata": {},
   "outputs": [],
   "source": []
  },
  {
   "cell_type": "markdown",
   "metadata": {},
   "source": [
    "2. Create two subplots using fuctional programming method for the table below\n",
    "```python\n",
    "x1 = ['Chemistry', 'Physics', 'English', 'Maths', 'Science', 'Social'] \n",
    "y1 = [45, 34, 30, 45, 50, 38] \n",
    "y2 = [36, 28, 30, 45, 38, 48] "
   ]
  },
  {
   "cell_type": "code",
   "execution_count": null,
   "metadata": {},
   "outputs": [],
   "source": []
  },
  {
   "cell_type": "markdown",
   "metadata": {},
   "source": [
    "3. Create two subplots using Object oriented programming method for the table below\n",
    "```python\n",
    "x1 = ['Chemistry', 'Physics', 'English', 'Maths', 'Science', 'Social'] \n",
    "y1 = [45, 34, 30, 45, 50, 38] \n",
    "y2 = [36, 28, 30, 45, 38, 48] "
   ]
  },
  {
   "cell_type": "code",
   "execution_count": null,
   "metadata": {},
   "outputs": [],
   "source": []
  },
  {
   "cell_type": "markdown",
   "metadata": {},
   "source": [
    "4. Plot a sin, cos and tan Wave"
   ]
  },
  {
   "cell_type": "code",
   "execution_count": null,
   "metadata": {},
   "outputs": [],
   "source": []
  },
  {
   "cell_type": "markdown",
   "metadata": {},
   "source": [
    "5. Read an image of your face, Convert half to grey scale and display it."
   ]
  },
  {
   "cell_type": "code",
   "execution_count": null,
   "metadata": {},
   "outputs": [],
   "source": []
  },
  {
   "cell_type": "markdown",
   "metadata": {},
   "source": [
    "6. ##### Romantic!  \n",
    "Plot the code below to display a heart. \n",
    "1. Fill it with the color **Pink**.\n",
    "2. Set the linewidth to **2**.\n",
    "3. Set the line color to **Red**.\n",
    "4. Set the figure size to **6,6**\n",
    "5. Decorate the figure with a title and labels.\n",
    "6. Add gridlines\n",
    "```python\n",
    "%reset -f \n",
    "from matplotlib import pyplot as plt # import the plotting library \n",
    "import numpy as np # import NumPy: for large, multi-dimensional arrays and matrices, along with  high-level mathematical functions to operate on these arrays.\n",
    "pi = np.pi #pi value from the np package\n",
    "t= np.linspace(0,2*pi,360)# the NumPy function np.linspace is similar to the range()\n",
    "x = 16*np.sin(t)**3\n",
    "y = 13*np.cos(t) - 5*np.cos(2*t) - 2*np.cos(3*t) - np.cos(4*t)"
   ]
  },
  {
   "cell_type": "markdown",
   "metadata": {},
   "source": [
    ">##### Hint:   \n",
    "    - xMin = 0\n",
    "    - do the plotting here...\n",
    "    - add a label to the x and y-axes\n",
    "    - limit visible x axis\n",
    "    - add a title\n",
    "    - display the plot"
   ]
  },
  {
   "cell_type": "code",
   "execution_count": null,
   "metadata": {},
   "outputs": [],
   "source": []
  },
  {
   "cell_type": "markdown",
   "metadata": {},
   "source": [
    "7. ##### Half as romantic!  \n",
    "Plot half the heart by removing all the negative values in x. Do not forget to decorate the figure with a title and labels.\n",
    "```python\n",
    "%reset -f \n",
    "from matplotlib import pyplot as plt # import the plotting library \n",
    "import numpy as np # import NumPy: for large, multi-dimensional arrays and matrices, along with  high-level mathematical functions to operate on these arrays.\n",
    "pi = np.pi #pi value from the np package\n",
    "t= np.linspace(0,2*pi,360)# the NumPy function np.linspace is similar to the range()\n",
    "x = 16*np.sin(t)**3\n",
    "y = 13*np.cos(t) - 5*np.cos(2*t) - 2*np.cos(3*t) - np.cos(4*t)"
   ]
  },
  {
   "cell_type": "markdown",
   "metadata": {},
   "source": [
    ">##### Hint:   \n",
    "    - xMin = 0\n",
    "    - do the plotting here...\n",
    "    - add a label to the x and y-axes\n",
    "    - limit visible x axis\n",
    "    - add a title\n",
    "    - display the plot"
   ]
  },
  {
   "cell_type": "code",
   "execution_count": null,
   "metadata": {},
   "outputs": [],
   "source": []
  },
  {
   "cell_type": "markdown",
   "metadata": {},
   "source": [
    "8. ##### Bins, Bins, Bins! \n",
    " Selecting the number of bins is an important decision when working with histograms. Are there any rules or recommendations for choosing the number or width of bins? What happens if we use too many or too few bins?"
   ]
  },
  {
   "cell_type": "code",
   "execution_count": null,
   "metadata": {},
   "outputs": [],
   "source": []
  },
  {
   "cell_type": "markdown",
   "metadata": {},
   "source": [
    "---\n",
    "## Lab Exercise 13.1 (20 marks)\n",
    "Ensure you entered your full name and R Number in the top cell<br>\n",
    "Convert to PDF and submit both PDF and IPYNB\n",
    "___"
   ]
  },
  {
   "cell_type": "markdown",
   "metadata": {},
   "source": [
    "___\n",
    "## <font color=orange>This is a Matplotlib Cheat Sheet</font>\n",
    "\n",
    "![](https://www.googleapis.com/download/storage/v1/b/kaggle-forum-message-attachments/o/inbox%2F5337747%2Fc6a59a0fad73ea9fc11720757f81cf13%2FMatplotlib_cheatsheet_datacamp.png?generation=1598960608599353&alt=media)\n"
   ]
  },
  {
   "cell_type": "code",
   "execution_count": null,
   "metadata": {},
   "outputs": [],
   "source": []
  },
  {
   "cell_type": "markdown",
   "metadata": {},
   "source": [
    "___\n",
    "![](https://media2.giphy.com/media/5nj4ZZWl6QwneEaBX4/source.gif) <br>\n",
    "\n",
    "*Here are some of the resources used for creating this notebook:* \n",
    "\n",
    "- __\"Discrete distribution as horizontal bar chart\"__ available at *https://matplotlib.org/stable/gallery/lines_bars_and_markers/horizontal_barchart_distribution.html<br>\n",
    "- __\"Bar Plot in Matplotlib\"__ available at *https://www.geeksforgeeks.org/bar-plot-in-matplotlib/<br>\n",
    "\n",
    "\n",
    "*Here are some great reads on this topic:* \n",
    "- __\"Python | Introduction to Matplotlib\"__ available at *https://www.geeksforgeeks.org/python-introduction-matplotlib/<br>\n",
    "- __\"Visualization with Matplotlib\"__ available at *https://jakevdp.github.io/PythonDataScienceHandbook/04.00-introduction-to-matplotlib.html <br>\n",
    "- __\"Introduction to Matplotlib — Data Visualization in Python\"__ by __Ehi Aigiomawu__ available at *https://heartbeat.fritz.ai/introduction-to-matplotlib-data-visualization-in-python-d9143287ae39 <br>\n",
    "- __\"Python Plotting With Matplotlib (Guide)\"__ by __Brad Solomon__ available at *https://realpython.com/python-matplotlib-guide/ <br>\n",
    "\n",
    "\n",
    "*Here are some great videos on these topics:* \n",
    "- __\"Matplotlib Tutorial (Part 1): Creating and Customizing Our First Plots\"__ by __Corey Schafer__ available at *https://www.youtube.com/watch?v=UO98lJQ3QGI <br>\n",
    "- __\"Intro to Data Analysis / Visualization with Python, Matplotlib and Pandas | Matplotlib Tutorial\"__ by __CS Dojo__ available at *https://www.youtube.com/watch?v=a9UrKTVEeZA <br>\n",
    "- __\"Intro to Data Visualization in Python with Matplotlib! (line graph, bar chart, title, labels, size)\"__ by __Keith Galli__ available at *https://www.youtube.com/watch?v=DAQNHzOcO5A <br>\n"
   ]
  },
  {
   "cell_type": "markdown",
   "metadata": {},
   "source": [
    "___\n",
    "![](https://media.csesoc.org.au/content/images/2019/10/learn11.gif) <br>\n"
   ]
  },
  {
   "cell_type": "markdown",
   "metadata": {},
   "source": [
    "<font color='green'> Explain here... </font> "
   ]
  },
  {
   "cell_type": "markdown",
   "metadata": {},
   "source": []
  },
  {
   "cell_type": "markdown",
   "metadata": {},
   "source": [
    "![](https://i.pinimg.com/originals/ee/62/06/ee62064e595a225f476e47cf39b9a05d.jpg)"
   ]
  }
 ],
 "metadata": {
  "kernelspec": {
   "display_name": "Python 3 (ipykernel)",
   "language": "python",
   "name": "python3"
  },
  "language_info": {
   "codemirror_mode": {
    "name": "ipython",
    "version": 3
   },
   "file_extension": ".py",
   "mimetype": "text/x-python",
   "name": "python",
   "nbconvert_exporter": "python",
   "pygments_lexer": "ipython3",
   "version": "3.11.4"
  }
 },
 "nbformat": 4,
 "nbformat_minor": 4
}

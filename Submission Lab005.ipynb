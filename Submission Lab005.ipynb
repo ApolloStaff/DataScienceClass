{
  "cells": [
    {
      "cell_type": "markdown",
      "metadata": {
        "id": "W4mhVRoqomPK"
      },
      "source": [
        "# <font color=darkred>Laboratory 5: Sentinel Controlled Repetition </font>"
      ]
    },
    {
      "cell_type": "code",
      "execution_count": 8,
      "metadata": {
        "colab": {
          "base_uri": "https://localhost:8080/",
          "height": 0
        },
        "id": "z36WFvZOomPO",
        "outputId": "654237c7-bfa7-4e4c-ef07-767a257158ea"
      },
      "outputs": [
        {
          "output_type": "stream",
          "name": "stdout",
          "text": [
            "d31dd226f97a\n",
            "root\n",
            "/usr/bin/python3\n",
            "3.10.12 (main, Jul 29 2024, 16:56:48) [GCC 11.4.0]\n",
            "sys.version_info(major=3, minor=10, micro=12, releaselevel='final', serial=0)\n"
          ]
        }
      ],
      "source": [
        "# Preamble script block to identify host, user, and kernel\n",
        "import sys\n",
        "! hostname\n",
        "! whoami\n",
        "print(sys.executable)\n",
        "print(sys.version)\n",
        "print(sys.version_info)"
      ]
    },
    {
      "cell_type": "markdown",
      "metadata": {
        "id": "yBYoxk3NomPR"
      },
      "source": [
        "## Full name: Tolulope Adewoye\n",
        "## R#: R11789550\n",
        "## Title of the notebook: Loops, Looops, Loooooops\n",
        "## Date: 17/09/2024\n",
        "___"
      ]
    },
    {
      "cell_type": "markdown",
      "metadata": {
        "id": "UfDzo7r3omPR"
      },
      "source": [
        "## <font color=purple>Program flow control (Loops)</font>\n",
        "- Controlled repetition\n",
        "- Structured FOR Loop\n",
        "- Structured WHILE Loop"
      ]
    },
    {
      "cell_type": "markdown",
      "metadata": {
        "id": "nwWkxhFYomPS"
      },
      "source": [
        "___\n",
        "### <font color=purple>Sentinel-controlled repetition</font>\n",
        "![](https://media.geeksforgeeks.org/wp-content/uploads/20191119172228/Flow-Diagram-do-while-loop.jpg) <br>\n",
        "\n",
        "When loop control is based on the value of what we are processing, sentinel-controlled repetition is used.\n",
        "Sentinel-controlled repetition is also called indefinite repetition because it is not known in advance how many times the loop will be executed.\n",
        "\n",
        "\n",
        "![](https://media0.giphy.com/media/3Xw8jY3zbFRtFd6eK8/giphy.gif) <br>\n",
        "\n",
        "It is a repetition procedure for solving a problem by using a sentinel value (also called a signal value, a dummy value or a flag value) to indicate \"end of process\".\n",
        "The sentinel value itself need not be a part of the processed data.\n",
        "\n",
        "One common example of using sentinel-controlled repetition is when we are processing data from a file and we do not know in advance when we would reach the end of the file.\n",
        "\n",
        "We can use both `for` and `while` loops, for __Sentinel__ controlled repetition, but the `while` loop is more common.\n",
        "\n",
        "#### Structured `WHILE` loop\n",
        "The `while` loop repeats a block of instructions inside the loop while a condition remainsvtrue.\n",
        "\n",
        "First a generic syntax\n",
        "\n",
        "    while condition is true:\n",
        "        execute a\n",
        "        execute b\n",
        "    ....\n",
        "\n",
        "Notice our friend, the colon `:` and the indentation again."
      ]
    },
    {
      "cell_type": "code",
      "execution_count": 9,
      "metadata": {
        "colab": {
          "base_uri": "https://localhost:8080/",
          "height": 0
        },
        "id": "ONrQcdSxomPT",
        "outputId": "bf25b6d7-7564-4524-ac3b-38692091d9f4"
      },
      "outputs": [
        {
          "output_type": "stream",
          "name": "stdout",
          "text": [
            "Counter =  5\n",
            "Counter =  4\n",
            "Counter =  3\n",
            "Counter =  2\n",
            "Counter =  1\n"
          ]
        }
      ],
      "source": [
        "# set a counter\n",
        "counter = 5\n",
        "# while loop\n",
        "while counter > 0:\n",
        "    print(\"Counter = \",counter)\n",
        "    counter = counter -1"
      ]
    },
    {
      "cell_type": "markdown",
      "metadata": {
        "id": "rgEf3RwjomPT"
      },
      "source": [
        "> The while loop structure just depicted is a \"decrement, skip if equal\" in lower level languages. The next structure, also a while loop is an \"increment, skip if greater\" structure."
      ]
    },
    {
      "cell_type": "code",
      "execution_count": 10,
      "metadata": {
        "colab": {
          "base_uri": "https://localhost:8080/",
          "height": 0
        },
        "id": "mGpILAFLomPU",
        "outputId": "0c0f3506-c3b5-407d-a1a0-9bb8e0456ea3"
      },
      "outputs": [
        {
          "output_type": "stream",
          "name": "stdout",
          "text": [
            "Counter =  0\n",
            "Counter =  1\n",
            "Counter =  2\n",
            "Counter =  3\n",
            "Counter =  4\n",
            "Counter =  5\n"
          ]
        }
      ],
      "source": [
        "# set a counter\n",
        "counter = 0\n",
        "# while loop\n",
        "while counter <= 5:  # change this line to: while counter <= 5: what happens?\n",
        "    print (\"Counter = \",counter)\n",
        "    counter = counter +1  # change this line to: counter +=1  what happens?\n"
      ]
    },
    {
      "cell_type": "markdown",
      "metadata": {
        "id": "PO0NSIO0omPV"
      },
      "source": [
        "___\n",
        "#### The `continue` statement\n",
        "The continue instruction skips the block of code after it is executed for that iteration.\n",
        "It is\n",
        "best illustrated by an example."
      ]
    },
    {
      "cell_type": "code",
      "execution_count": 11,
      "metadata": {
        "colab": {
          "base_uri": "https://localhost:8080/",
          "height": 0
        },
        "id": "2BmpKTHBomPV",
        "outputId": "efa508ce-a182-46fc-cd71-7904423df063"
      },
      "outputs": [
        {
          "output_type": "stream",
          "name": "stdout",
          "text": [
            "\n",
            " i =  1 , j =  2\n",
            " this message will be skipped over if j = 6 \n",
            "\n",
            " i =  2 , j =  4\n",
            " this message will be skipped over if j = 6 \n",
            "\n",
            " i =  3 , j =  6\n",
            "\n",
            " i =  4 , j =  8\n",
            " this message will be skipped over if j = 6 \n",
            "\n",
            " i =  5 , j =  10\n",
            " this message will be skipped over if j = 6 \n"
          ]
        }
      ],
      "source": [
        "i = 0\n",
        "j = 0\n",
        "while i < 5:\n",
        "    i += 1\n",
        "    j += 2\n",
        "    print (\"\\n i = \", i , \", j = \", j) #here the \\n is a newline command\n",
        "    if j == 6:\n",
        "        continue\n",
        "    print(\" this message will be skipped over if j = 6 \") # still within the loop, so the skip is implemented\n",
        "\n",
        "#When j ==6 the line after the continue keyword is not printed.\n",
        "#Other than that one difference the rest of the script runs normally."
      ]
    },
    {
      "cell_type": "markdown",
      "metadata": {
        "id": "QOl5kdQZomPV"
      },
      "source": [
        "___\n",
        "#### The `try`, `except` structure\n",
        "\n",
        "An important control structure (and a pretty cool one for error trapping) is the `try`, `except`\n",
        "statement.\n",
        "\n",
        "The statement controls how the program proceeds when an error occurs in an instruction.\n",
        "The structure is really useful to trap likely errors (divide by zero, wrong kind of input)\n",
        "yet let the program keep running or at least issue a meaningful message to the user.\n",
        "\n",
        "The syntax is:\n",
        "\n",
        "    try:\n",
        "    do something\n",
        "    except:\n",
        "    do something else if ``do something'' returns an error\n",
        "\n",
        "Here is a really simple, but hugely important example:"
      ]
    },
    {
      "cell_type": "code",
      "execution_count": 12,
      "metadata": {
        "colab": {
          "base_uri": "https://localhost:8080/",
          "height": 0
        },
        "id": "oKeCT0nMomPW",
        "outputId": "d2da7da2-0a0c-412c-f771-e9a1bac9ac24"
      },
      "outputs": [
        {
          "output_type": "stream",
          "name": "stdout",
          "text": [
            "x =  12.0 y =  12.0 x/y =  1.0\n",
            "x =  12.0 y =  11.0 x/y =  1.0909090909090908\n",
            "x =  12.0 y =  10.0 x/y =  1.2\n",
            "x =  12.0 y =  9.0 x/y =  1.3333333333333333\n",
            "x =  12.0 y =  8.0 x/y =  1.5\n",
            "x =  12.0 y =  7.0 x/y =  1.7142857142857142\n",
            "x =  12.0 y =  6.0 x/y =  2.0\n",
            "x =  12.0 y =  5.0 x/y =  2.4\n",
            "x =  12.0 y =  4.0 x/y =  3.0\n",
            "x =  12.0 y =  3.0 x/y =  4.0\n",
            "x =  12.0 y =  2.0 x/y =  6.0\n",
            "x =  12.0 y =  1.0 x/y =  12.0\n",
            "error divide by zero\n",
            "x =  12.0 y =  -1.0 x/y =  -12.0\n",
            "x =  12.0 y =  -2.0 x/y =  -6.0\n",
            "x =  12.0 y =  -3.0 x/y =  -4.0\n",
            "x =  12.0 y =  -4.0 x/y =  -3.0\n",
            "x =  12.0 y =  -5.0 x/y =  -2.4\n",
            "x =  12.0 y =  -6.0 x/y =  -2.0\n",
            "x =  12.0 y =  -7.0 x/y =  -1.7142857142857142\n",
            "x =  12.0 y =  -8.0 x/y =  -1.5\n",
            "x =  12.0 y =  -9.0 x/y =  -1.3333333333333333\n",
            "x =  12.0 y =  -10.0 x/y =  -1.2\n",
            "x =  12.0 y =  -11.0 x/y =  -1.0909090909090908\n",
            "x =  12.0 y =  -12.0 x/y =  -1.0\n"
          ]
        }
      ],
      "source": [
        "#MyErrorTrap.py\n",
        "x = 12.\n",
        "y = 12.\n",
        "while y >= -12.: # sentinel controlled repetition\n",
        "    try:\n",
        "        print (\"x = \", x, \"y = \", y, \"x/y = \", x/y)\n",
        "    except:\n",
        "        print (\"error divide by zero\")\n",
        "    y -= 1"
      ]
    },
    {
      "cell_type": "markdown",
      "metadata": {
        "id": "swURYH_womPW"
      },
      "source": [
        "So this silly code starts with x fixed at a value of 12, and y starting at 12 and decreasing by\n",
        "1 until y equals -1. The code returns the ratio of x to y and at one point y is equal to zero\n",
        "and the division would be undefined. By trapping the error the code can issue us a measure\n",
        "and keep running.\n",
        "\n",
        "Modify the script as shown below,Run, and see what happens"
      ]
    },
    {
      "cell_type": "code",
      "execution_count": 13,
      "metadata": {
        "colab": {
          "base_uri": "https://localhost:8080/",
          "height": 0
        },
        "id": "JpPLtvD4omPX",
        "outputId": "95f61c09-b734-402c-b255-d66ffdfc8c61"
      },
      "outputs": [
        {
          "output_type": "stream",
          "name": "stdout",
          "text": [
            "x =  12.0 y =  12.0 x/y =  1.0\n",
            "x =  12.0 y =  11.0 x/y =  1.0909090909090908\n",
            "x =  12.0 y =  10.0 x/y =  1.2\n",
            "x =  12.0 y =  9.0 x/y =  1.3333333333333333\n",
            "x =  12.0 y =  8.0 x/y =  1.5\n",
            "x =  12.0 y =  7.0 x/y =  1.7142857142857142\n",
            "x =  12.0 y =  6.0 x/y =  2.0\n",
            "x =  12.0 y =  5.0 x/y =  2.4\n",
            "x =  12.0 y =  4.0 x/y =  3.0\n",
            "x =  12.0 y =  3.0 x/y =  4.0\n",
            "x =  12.0 y =  2.0 x/y =  6.0\n",
            "x =  12.0 y =  1.0 x/y =  12.0\n",
            "error divide by zero\n",
            "x =  12.0 y =  -1.0 x/y =  -12.0\n",
            "x =  12.0 y =  -2.0 x/y =  -6.0\n",
            "x =  12.0 y =  -3.0 x/y =  -4.0\n",
            "x =  12.0 y =  -4.0 x/y =  -3.0\n",
            "x =  12.0 y =  -5.0 x/y =  -2.4\n",
            "x =  12.0 y =  -6.0 x/y =  -2.0\n",
            "x =  12.0 y =  -7.0 x/y =  -1.7142857142857142\n",
            "x =  12.0 y =  -8.0 x/y =  -1.5\n",
            "x =  12.0 y =  -9.0 x/y =  -1.3333333333333333\n",
            "x =  12.0 y =  -10.0 x/y =  -1.2\n",
            "x =  12.0 y =  -11.0 x/y =  -1.0909090909090908\n",
            "x =  12.0 y =  -12.0 x/y =  -1.0\n"
          ]
        }
      ],
      "source": [
        "#NoErrorTrap.py\n",
        "x = 12.\n",
        "y = 12.\n",
        "while y >= -12.: # sentinel controlled repetition\n",
        "    try:\n",
        "        print (\"x = \", x, \"y = \", y, \"x/y = \", x/y)\n",
        "    except:\n",
        "        print (\"error divide by zero\")\n",
        "    y -= 1"
      ]
    },
    {
      "cell_type": "markdown",
      "metadata": {
        "id": "UmvmsJA4omPX"
      },
      "source": [
        "___\n",
        "## EXERCISE 5.1   (80 Marks)\n",
        "1. Using while loop sum all even numbers from 1 to n in which n is even and given by user."
      ]
    },
    {
      "cell_type": "code",
      "execution_count": 14,
      "metadata": {
        "colab": {
          "base_uri": "https://localhost:8080/",
          "height": 0
        },
        "id": "tJ51OfSMomPX",
        "outputId": "c77eef7f-26cb-4f3e-809e-d5c14752e60d"
      },
      "outputs": [
        {
          "output_type": "stream",
          "name": "stdout",
          "text": [
            "Enter an even number: 100\n",
            "The sum of even numbers from 1 to 100 is: 2550\n"
          ]
        }
      ],
      "source": [
        "n = int(input(\"Enter an even number: \"))\n",
        "sum = 0\n",
        "i = 2\n",
        "while i <= n:\n",
        "  sum += i\n",
        "  i += 2\n",
        "print(\"The sum of even numbers from 1 to\", n, \"is:\", sum)\n"
      ]
    },
    {
      "cell_type": "markdown",
      "metadata": {
        "id": "6vMpasl1omPX"
      },
      "source": [
        "2. Using while write a code that counts number of characters in a string."
      ]
    },
    {
      "cell_type": "code",
      "execution_count": 15,
      "metadata": {
        "colab": {
          "base_uri": "https://localhost:8080/",
          "height": 0
        },
        "id": "KyzZqNP3omPY",
        "outputId": "63d905c3-be27-4fd6-efb2-41e9782276f1"
      },
      "outputs": [
        {
          "output_type": "stream",
          "name": "stdout",
          "text": [
            "Enter a string: Hello World\n",
            "The number of characters in the string is: 11\n"
          ]
        }
      ],
      "source": [
        "string = input(\"Enter a string: \")\n",
        "count = 0\n",
        "i = 0\n",
        "while i < len(string):\n",
        "  count += 1\n",
        "  i += 1\n",
        "print(\"The number of characters in the string is:\", count)\n"
      ]
    },
    {
      "cell_type": "markdown",
      "metadata": {
        "id": "FyBoujUUomPY"
      },
      "source": [
        "3. Below is code snippet which indends to increment **x** from 0 to 6 and calculate/print a **y** using different methods in different between.\n",
        "\n",
        "> If **x** is 0, **y** should be **x**.\n",
        "\n",
        "> If **x** is 1, **y** should be **x** times **x**.\n",
        "\n",
        "> Else **y** should be **x** plus 2.\n",
        "\n",
        "However, there are a few errors with this code please fix it and comment to explain your fix.\n"
      ]
    },
    {
      "cell_type": "code",
      "execution_count": 16,
      "metadata": {
        "colab": {
          "base_uri": "https://localhost:8080/",
          "height": 0
        },
        "id": "0Xbo5UY4omPY",
        "outputId": "d59d6eef-5547-44a9-c7d5-4bff8588aa8c"
      },
      "outputs": [
        {
          "output_type": "stream",
          "name": "stdout",
          "text": [
            "---x--- | ---y---\n",
            "--------|--------\n",
            "   1    |     1 \n",
            "   2    |     4 \n",
            "   3    |     5 \n",
            "   4    |     6 \n",
            "   5    |     7 \n",
            "   6    |     8 \n",
            "   7    |     9 \n"
          ]
        }
      ],
      "source": [
        "x = 0\n",
        "\n",
        "print(\"---x---\", \"|\", \"---y---\")\n",
        "print(\"--------|--------\")\n",
        "\n",
        "while x <= 6:\n",
        "    x += 1\n",
        "    if x == 1:\n",
        "        y = x\n",
        "        print(\"%4.f\" % x, \"   |\", \" %4.f \" % y)\n",
        "    elif x == 2:\n",
        "        y = x * x\n",
        "        print(\"%4.f\" % x, \"   |\", \" %4.f \" % y)\n",
        "    else:\n",
        "        y = x + 2\n",
        "        print(\"%4.f\" % x, \"   |\", \" %4.f \" % y)"
      ]
    },
    {
      "cell_type": "markdown",
      "metadata": {
        "id": "_ZJGhoIgomPY"
      },
      "source": [
        "4. Print the Fibonacci sequence up to the 10th term using a while loop:"
      ]
    },
    {
      "cell_type": "code",
      "execution_count": 17,
      "metadata": {
        "colab": {
          "base_uri": "https://localhost:8080/",
          "height": 0
        },
        "id": "VC5YvSsFomPZ",
        "outputId": "9fb8bac7-2d31-4b8c-e6ce-b8936170ef6c"
      },
      "outputs": [
        {
          "output_type": "stream",
          "name": "stdout",
          "text": [
            "0 1 1 2 3 5 8 13 21 34 "
          ]
        }
      ],
      "source": [
        "a, b = 0, 1\n",
        "count = 0\n",
        "while count < 10:\n",
        "    print(a, end=\" \")\n",
        "    a, b = b, a + b\n",
        "    count += 1"
      ]
    },
    {
      "cell_type": "markdown",
      "metadata": {
        "id": "sCAGRqbComPZ"
      },
      "source": [
        "---\n",
        "## Lab Exercise 5.2 (20 marks)\n",
        "Ensure you entered your full name and R Number in the top cell<br>\n",
        "Convert to PDF and submit both PDF and IPYNB\n"
      ]
    },
    {
      "cell_type": "markdown",
      "metadata": {
        "id": "Jt4VVZUdomPZ"
      },
      "source": [
        "___\n",
        "![](https://media2.giphy.com/media/5nj4ZZWl6QwneEaBX4/source.gif) <br>\n",
        "\n",
        "\n",
        "*Here are some great reads on this topic:*\n",
        "- __\"Python for Loop\"__ available at *https://www.programiz.com/python-programming/for-loop/<br>\n",
        "- __\"Python \"for\" Loops (Definite Iteration)\"__ by __John Sturtz__ available at *https://realpython.com/python-for-loop/ <br>\n",
        "- __\"Python \"while\" Loops (Indefinite Iteration)\"__ by __John Sturtz__ available at *https://realpython.com/python-while-loop/ <br>\n",
        "- __\"loops in python\"__ available at *https://www.geeksforgeeks.org/loops-in-python/ <br>\n",
        "- __\"Python Exceptions: An Introduction\"__ by __Said van de Klundert__ available at *https://realpython.com/python-exceptions/ <br>\n",
        "\n",
        "*Here are some great videos on these topics:*\n",
        "- __\"Python For Loops - Python Tutorial for Absolute Beginners\"__ by __Programming with Mosh__ available at *https://www.youtube.com/watch?v=94UHCEmprCY <br>\n",
        "- __\"Python Tutorial for Beginners 7: Loops and Iterations - For/While Loops\"__ by __Corey Schafer__ available at *https://www.youtube.com/watch?v=6iF8Xb7Z3wQ <br>\n",
        "- __\"Python 3 Programming Tutorial - For loop\"__ by __sentdex__ available at *https://www.youtube.com/watch?v=xtXexPSfcZg <br><br>"
      ]
    },
    {
      "cell_type": "code",
      "execution_count": 17,
      "metadata": {
        "id": "4Ezkn1QGomPZ"
      },
      "outputs": [],
      "source": []
    },
    {
      "cell_type": "markdown",
      "metadata": {
        "id": "C2_mGzynomPZ"
      },
      "source": [
        "![](https://i.pinimg.com/originals/51/97/7b/51977b7f744a0b085b593af84b0ec943.jpg)"
      ]
    }
  ],
  "metadata": {
    "kernelspec": {
      "display_name": "Python 3 (ipykernel)",
      "language": "python",
      "name": "python3"
    },
    "language_info": {
      "codemirror_mode": {
        "name": "ipython",
        "version": 3
      },
      "file_extension": ".py",
      "mimetype": "text/x-python",
      "name": "python",
      "nbconvert_exporter": "python",
      "pygments_lexer": "ipython3",
      "version": "3.11.4"
    },
    "colab": {
      "provenance": []
    }
  },
  "nbformat": 4,
  "nbformat_minor": 0
}
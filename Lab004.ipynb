{
 "cells": [
  {
   "cell_type": "markdown",
   "metadata": {},
   "source": [
    "# <font color=darkred>Laboratory 4: Algorithm Building Blocks and Selection Structures  </font>"
   ]
  },
  {
   "cell_type": "code",
   "execution_count": null,
   "metadata": {},
   "outputs": [],
   "source": [
    "# Preamble script block to identify host, user, and kernel\n",
    "import sys\n",
    "! hostname\n",
    "! whoami\n",
    "print(sys.executable)\n",
    "print(sys.version)\n",
    "print(sys.version_info)"
   ]
  },
  {
   "cell_type": "markdown",
   "metadata": {},
   "source": [
    "## Full name: \n",
    "## R#: \n",
    "## Title of the notebook:\n",
    "## Date: \n",
    "___"
   ]
  },
  {
   "cell_type": "markdown",
   "metadata": {},
   "source": [
    "___\n",
    "## <font color=purple>Algorithm Building Blocks</font>\n",
    "\n",
    "All programs are made up of three fundamental patterns of control or flow:  \n",
    "  1. **Sequence** - one instruction after another  \n",
    "  2. **Selection (Conditional)** - A group of instructions may or may not be executed, depending on some condition  \n",
    "  3. **Repetition (Loop)** – A group of instructions repeated multiple times  \n"
   ]
  },
  {
   "cell_type": "markdown",
   "metadata": {},
   "source": [
    "___\n",
    "## <font color=purple>Let's Practice...</font>"
   ]
  },
  {
   "cell_type": "markdown",
   "metadata": {},
   "source": [
    "### Story time #1\n",
    "> Farhang goes to the campus from home everyday. He told Mert that he has three travel options to choose from. He can either walk, ride his bicycle, or take the bus. Farhang's choice depends on what time he leaves his home. His first class is at 8am, and if he has more than 30 minutes till class when he leaves home he walks. But, if he has less than 30 minutes he takes his bike. Sometimes he leaves his home even later. If he only has 15 minutes or less before class then he takes the bus."
   ]
  },
  {
   "cell_type": "markdown",
   "metadata": {},
   "source": [
    "Mert wants to write the pseudo code to understand this problem.\n",
    "* Provide the pseudo code to solve this\n",
    "* What is the input?\n",
    "* What is the output?"
   ]
  },
  {
   "cell_type": "markdown",
   "metadata": {},
   "source": [
    "***Inputs:***\n",
    "\n",
    "...\n",
    "\n",
    "***Outputs:***\n",
    "\n",
    "...\n",
    "\n",
    "***Procedure:***\n",
    "\n",
    "..."
   ]
  },
  {
   "cell_type": "markdown",
   "metadata": {},
   "source": [
    "---\n",
    "## Exercise 4.1 (20 marks)\n",
    "We want a volunteer to share his coffee routine:\n",
    "* please include approximately 7-8 steps.\n",
    "* let's format those in to a pseudo code..."
   ]
  },
  {
   "cell_type": "markdown",
   "metadata": {},
   "source": [
    "***Inputs:***\n",
    "\n",
    "...\n",
    "\n",
    "***Outputs:***\n",
    "\n",
    "...\n",
    "\n",
    "***Procedure:***\n",
    "\n",
    "..."
   ]
  },
  {
   "cell_type": "markdown",
   "metadata": {},
   "source": [
    "___\n",
    "## <font color=purple>Arithmetic Assignment Operators (<em>sequences sneak peak</em>)</font>\n",
    "\n",
    "Arithmetic assignment operators perform an arithmetic operation followed by an assignment."
   ]
  },
  {
   "cell_type": "code",
   "execution_count": null,
   "metadata": {},
   "outputs": [],
   "source": [
    "# Arithmetic assignment operators\n",
    "x = 1\n",
    "x += 2\n",
    "print(type(x),x)\n",
    "x = 1\n",
    "x -= 2\n",
    "print(type(x),x)\n",
    "x = 1\n",
    "x *=3\n",
    "print(type(x),x)\n",
    "x = 10\n",
    "x /= 2\n",
    "print(type(x),x)  # Interesting what division does to variable type"
   ]
  },
  {
   "cell_type": "code",
   "execution_count": null,
   "metadata": {},
   "outputs": [],
   "source": [
    "# Variable Types Example\n",
    "MyPhoneNumber = 14158576309\n",
    "MyMassInKilos = 74.8427\n",
    "MyName = 'Theodore'\n",
    "MyCatName = \"Dusty\"\n",
    "DustyMassInKilos = \"7.48427\"\n",
    "print(\"All about me\")\n",
    "print(\"Name: \",MyName, \" Mass :\",MyMassInKilos,\"Kg\" )\n",
    "print('Phone : ',MyPhoneNumber)\n",
    "print('My cat\\'s name :', MyCatName)  # the \\ escape character is used to get the ' into the literal\n",
    "print(\"All about concatenation!\")\n",
    "print(\"A Silly String : \",MyCatName+MyName+DustyMassInKilos)\n",
    "print(\"A SILLY STRING :  \", (MyCatName+MyName+DustyMassInKilos).upper())\n",
    "print(MyName[0:4])    # Notice how the string is sliced- This is Python: ALWAYS start counting from zero!"
   ]
  },
  {
   "cell_type": "markdown",
   "metadata": {},
   "source": [
    "## Sequence\n",
    "\n",
    "Our first structure is sequential.  To belabor the concept we will compute a short list of cubes, by cubing each element in a list and placing it into another list. The example below is dumb, but useful to introduce repetition later in the lab.  \n",
    "\n",
    "First an unusual cell, used to reset a notebook - it will clear the workspace.  Here we use it so the notebook will work the same for everyone (at least at first)."
   ]
  },
  {
   "cell_type": "markdown",
   "metadata": {},
   "source": [
    "---\n",
    "## Exercise 4.2 (20 marks)\n",
    "#### Note if you repeat a cell twice you get different result hence may need to reset "
   ]
  },
  {
   "cell_type": "code",
   "execution_count": 14,
   "metadata": {},
   "outputs": [],
   "source": [
    "# reset this notebook\n",
    "%reset -f \n",
    "# do a manual kernel restart to get the execution count to restart at one"
   ]
  },
  {
   "cell_type": "code",
   "execution_count": 15,
   "metadata": {},
   "outputs": [],
   "source": [
    "# AList = [0.0,1.0,2.0,3.0,4.0] # Create a list of floats"
   ]
  },
  {
   "cell_type": "code",
   "execution_count": 16,
   "metadata": {},
   "outputs": [],
   "source": [
    "# BList = [] #empty list to accept values"
   ]
  },
  {
   "cell_type": "code",
   "execution_count": 17,
   "metadata": {},
   "outputs": [],
   "source": [
    "# position = -1 # set position pointer to -1"
   ]
  },
  {
   "cell_type": "code",
   "execution_count": 18,
   "metadata": {},
   "outputs": [],
   "source": [
    "# position = position + 1 # increment position \n",
    "# BList.append(pow(AList[position],3)) # append to BList to build list of cubes"
   ]
  },
  {
   "cell_type": "code",
   "execution_count": 19,
   "metadata": {},
   "outputs": [],
   "source": [
    "# position = position + 1\n",
    "# BList.append(pow(AList[position],3))"
   ]
  },
  {
   "cell_type": "code",
   "execution_count": 20,
   "metadata": {},
   "outputs": [],
   "source": [
    "# position = position + 1\n",
    "# BList.append(pow(AList[position],3))"
   ]
  },
  {
   "cell_type": "code",
   "execution_count": 21,
   "metadata": {},
   "outputs": [],
   "source": [
    "# position = position + 1\n",
    "# BList.append(pow(AList[position],3))"
   ]
  },
  {
   "cell_type": "code",
   "execution_count": 22,
   "metadata": {},
   "outputs": [],
   "source": [
    "# position = position + 1\n",
    "# BList.append(pow(AList[position],3))"
   ]
  },
  {
   "cell_type": "code",
   "execution_count": 23,
   "metadata": {},
   "outputs": [],
   "source": [
    "# print(BList)"
   ]
  },
  {
   "cell_type": "markdown",
   "metadata": {},
   "source": [
    "___"
   ]
  },
  {
   "cell_type": "markdown",
   "metadata": {},
   "source": [
    "___\n",
    "\n",
    "![](https://www.xelplus.com/wp-content/uploads/2018/08/VBA-IF.jpg) <br>\n",
    "\n",
    "\n",
    "## <font color=purple>Conditional Execution</font>\n",
    "\n",
    "Conditional statements are logical expressions that evaluate as TRUE or FALSE and using\n",
    "these results to perform further operations based on these conditions.\n",
    "All flow control in a program depends on evaluating conditions. The program will proceed\n",
    "diferently based on the outcome of one or more conditions - really sophisticated AI programs are a collection of conditions and correlations. \n",
    "Amazon knowing what you kind of want is based on correlations of your past behavior compared to other peoples similar, butmore recent behavior, and then it uses conditional statements to decide what item to offer you in your recommendation items. \n",
    "It's spooky, but ultimately just a program running in the background trying to make your money theirs.\n",
    "\n",
    "## <font color=purple>Conditional Execution: Comparison</font>\n",
    "\n",
    "The most common conditional operation is comparison. If we wish to compare whether two\n",
    "variables are the same we use the == (double equal sign).\n",
    "\n",
    "For example x == y means the program will ask whether x and y have the same value. \n",
    "If they do, the result is TRUE if not then the result is FALSE.\n",
    "\n",
    "Other comparison signs are `!=` does NOT equal, `<` smaller than, `> `larger than, `<= `less than or equal, and `>=` greater than or equal.\n",
    "\n",
    "There are also three logical operators when we want to build multiple compares\n",
    "(multiple conditioning); these are `and`, `or`, and `not`.\n",
    "\n",
    "The `and` operator returns TRUE if (and only if) **all** conditions are TRUE.\n",
    "For instance `5 == 5 and 5 < 6` will return a TRUE because both conditions are true.\n",
    "\n",
    "The `or` operator returns `TRUE` if at least one condition is true. \n",
    "If **all** conditions are FALSE, then it will return a FALSE. For instance `4 > 3 or 17 > 20 or 3 == 2` will return `TRUE`because the first condition is true.\n",
    "The `not` operator returns `TRUE` if the condition after the `not` keyword is false. Think of it\n",
    "as a way to do a logic reversal."
   ]
  },
  {
   "cell_type": "code",
   "execution_count": null,
   "metadata": {},
   "outputs": [],
   "source": [
    "# Compare\n",
    "x = 7\n",
    "y = 10\n",
    "print(\"x =: \",x,\"y =: \",y)\n",
    "print(\"x is equal to y : \",x==y)\n",
    "print(\"x is not equal to y : \",x!=y)\n",
    "print(\"x is greater than y : \",x>y)\n",
    "print(\"x is less than y : \",x<y)"
   ]
  },
  {
   "cell_type": "code",
   "execution_count": null,
   "metadata": {},
   "outputs": [],
   "source": [
    "# Logical operators\n",
    "print(\"5 == 5 and 5 < 6 ? \",5 == 5 and 5 < 6)\n",
    "print(\"4 > 3 or 17 > 20 \",4 > 3 or 17 > 20)\n",
    "print(\"not 5 == 5\",not 5 == 5)"
   ]
  },
  {
   "cell_type": "markdown",
   "metadata": {},
   "source": [
    "## <font color=purple>Conditional Execution:  Block `if` statement</font>\n",
    "\n",
    "![](https://pythonexamples.org/wp-content/uploads/2020/07/python-if.gif) <br>\n",
    "\n",
    "The `if` statement is a common flow control statement. \n",
    "It allows the program to evaluate if a certain condition is satisfied and to perform a designed action based on the result of the evaluation. The structure of an `if` statement is\n",
    "\n",
    "    if condition1 is met:\n",
    "        do A\n",
    "    elif condition 2 is met:\n",
    "        do b\n",
    "    elif condition 3 is met:\n",
    "        do c\n",
    "    else:\n",
    "        do e\n",
    "        \n",
    "The `elif` means \"else if\". The `:` colon is an important part of the structure it tells where the action begins. Also there are no scope delimiters like (), or {} . \n",
    "Instead Python uses indentation to isolate blocks of code. \n",
    "\n",
    "\n",
    "This convention is hugely important - many other coding environments use delimiters (called scoping delimiters), but Python does not. The indentation itself is the scoping delimiter.\n",
    "\n",
    "The next code fragment illustrates illustrates how the `if` statements work. The program asks the user for input. The use of `raw_input()` will let the program read any input as a string\n",
    "so non-numeric results will not throw an error. \n",
    "The input is stored in the variable named `userInput`. \n",
    "Next the statement if `userInput == \"1\":` compares the value of `userInput`\n",
    "with the string `\"1\"`. If the value in the variable is indeed \\1\", then the program will execute\n",
    "the block of code in the indentation after the colon. \n",
    "In this case it will execute\n",
    "    \n",
    "    print \"Hello World\"\n",
    "    print \"How do you do? \"\n",
    "\n",
    "Alternatively, if the value of `userInput` is the string `'2'`, then the program will execute \n",
    "\n",
    "    print \"Snakes on a plane \"\n",
    "\n",
    "For all other values the program will execute\n",
    "\n",
    "    print \"You did not enter a valid number\""
   ]
  },
  {
   "cell_type": "code",
   "execution_count": null,
   "metadata": {},
   "outputs": [],
   "source": [
    "# Block if example\n",
    "userInput = input('Enter the number 1 or 2')\n",
    "# Use block if structure\n",
    "if userInput == '1':\n",
    "    print(\"Hello World\")\n",
    "    print(\"How do you do? \")\n",
    "elif userInput == '2':\n",
    "    print(\"Snakes on a plane \")\n",
    "else:\n",
    "    print(\"You did not enter a valid number\")"
   ]
  },
  {
   "cell_type": "markdown",
   "metadata": {},
   "source": [
    "## <font color=purple>Conditional Execution:  Inline `if` statement</font>\n",
    "\n",
    "An inline `if` statement is a simpler form of an `if` statement and is more convenient if you\n",
    "only need to perform a simple conditional task. \n",
    "The syntax is:\n",
    "\n",
    "    do TaskA `if` condition is true `else` do TaskB\n",
    "    \n",
    "An example would be\n",
    "\n",
    "    myInt = 3\n",
    "    num1 = 12 if myInt == 0 else 13\n",
    "    num1\n",
    "\n",
    "An alternative way is to enclose the condition in brackets for some clarity like\n",
    "\n",
    "    myInt = 3\n",
    "    num1 = 12 if (myInt == 0) else 13\n",
    "    num1\n",
    "\n",
    "In either case the result is that `num1` will have the value `13` (unless you set myInt to 0).\n",
    "\n",
    "One can also use `if` to construct extremely inefficient loops.  "
   ]
  },
  {
   "cell_type": "code",
   "execution_count": null,
   "metadata": {},
   "outputs": [],
   "source": [
    "myInt = 0\n",
    "num1 = 12 if (myInt == 0) else 13\n",
    "num1"
   ]
  },
  {
   "cell_type": "markdown",
   "metadata": {},
   "source": [
    "___\n",
    "### Example: Pass or Fail?\n",
    "\n",
    "Take the following inputs from the user: \n",
    "\n",
    "    1. Grade for Lesson 1 (from 0 to 5)\n",
    "    2. Grade for Lesson 2 (from 0 to 5)\n",
    "    3. Grade for Lesson 3 (from 0 to 5)\n",
    "   \n",
    "Compute the average of the three grades. Use the result to decide whether the student will pass or fail."
   ]
  },
  {
   "cell_type": "code",
   "execution_count": null,
   "metadata": {},
   "outputs": [],
   "source": [
    "Lesson1 = int(input('Enter the grade for Lesson 1'))\n",
    "Lesson2 = int(input('Enter the grade for Lesson 2'))\n",
    "Lesson3 = int(input('Enter the grade for Lesson 3'))\n",
    "\n",
    "\n",
    "Average = int(Lesson1+Lesson2+Lesson3)/3\n",
    "print('Average Course Grade:',Average)\n",
    "\n",
    "if Average >= 5:\n",
    "    print(\"Passed\")\n",
    "else:\n",
    "    print(\"Failed\")"
   ]
  },
  {
   "cell_type": "markdown",
   "metadata": {},
   "source": [
    "### Practical Example\n",
    "\n",
    "A council member will not be allowed to vote on an ordinance if his/her attendence at council meetings is less than 75%. \n",
    "Take the following inputs from the user: \n",
    "\n",
    "    1. Number of council meetings held.\n",
    "    2. Number of council meetings attended. \n",
    "   \n",
    "Compute the percentage of meetings attended \n",
    "\n",
    "$$\\%_{attended} = \\frac{Meetings_{attended}}{Meetings_{total}}*100$$\n",
    "\n",
    "Use the result to decide whether the council member will be allowed to vote or not."
   ]
  },
  {
   "cell_type": "code",
   "execution_count": 24,
   "metadata": {},
   "outputs": [],
   "source": [
    "# use our simple I/O methods to obtain council persons name\n",
    "# council_name = str(input('enter council person name'))"
   ]
  },
  {
   "cell_type": "code",
   "execution_count": 25,
   "metadata": {},
   "outputs": [],
   "source": [
    "# use our simple I/O methods to obtain meeting count\n",
    "# meetings_total = int(input('How many meetings since last vote?'))"
   ]
  },
  {
   "cell_type": "code",
   "execution_count": 26,
   "metadata": {},
   "outputs": [],
   "source": [
    "# use our simple I/O methods to obtain meetings attended\n",
    "# prompt_string = 'How many meetings did ' + council_name + ' attend? '\n",
    "# meetings_attended = int(input(prompt_string))"
   ]
  },
  {
   "cell_type": "code",
   "execution_count": 27,
   "metadata": {},
   "outputs": [],
   "source": [
    "# compute percent_attendence\n",
    "# percent_attend = 100.0*(meetings_attended/meetings_total) #the 100.0 forces float"
   ]
  },
  {
   "cell_type": "code",
   "execution_count": 28,
   "metadata": {},
   "outputs": [],
   "source": [
    "# select and make eligibility report\n",
    "# if percent_attend < 75:\n",
    "#     print('Council person ',council_name,' attended ',percent_attend,' percent of meetings and is NOT eligible to vote')\n",
    "# else:\n",
    "#     print('Council person ',council_name,' attended ',percent_attend,' percent of meetings and is eligible to vote')"
   ]
  },
  {
   "cell_type": "markdown",
   "metadata": {},
   "source": [
    "___"
   ]
  },
  {
   "cell_type": "markdown",
   "metadata": {},
   "source": [
    "### Exercise 4.3 (20 marks): \n",
    "What to select?\n",
    "Below is a multiple-alternative if statement to display a message indicating the success of a student for a given assignment on a grade scale of 5. \n",
    "> i.e., 1:fail, 2:bad, 3:satisfactory, 4:good, 5:excellent.\n",
    "\n",
    "However this code is not functioning as expected. Why? Please correct the mistakes and make this code work.\n",
    " * Make sure to cite any resources that you may use. "
   ]
  },
  {
   "cell_type": "code",
   "execution_count": null,
   "metadata": {},
   "outputs": [],
   "source": [
    "# Block if example\n",
    "userInput = input('Enter the grade')\n",
    "\n",
    "# Use block if structure\n",
    "if userInput == 1:\n",
    "    print(FAIL)\n",
    "elif userInput == 2:\n",
    "    print(bad)\n",
    "if userInput == 3:\n",
    "    print(satisfactory)\n",
    "elif userInput == 4:\n",
    "    print(good)\n",
    "elif userInput == 5:\n",
    "    print(excellent)\n",
    "else:\n",
    "    print(\"ERROR\")"
   ]
  },
  {
   "cell_type": "code",
   "execution_count": null,
   "metadata": {},
   "outputs": [],
   "source": []
  },
  {
   "cell_type": "code",
   "execution_count": null,
   "metadata": {},
   "outputs": [],
   "source": []
  },
  {
   "cell_type": "markdown",
   "metadata": {},
   "source": [
    "___"
   ]
  },
  {
   "cell_type": "markdown",
   "metadata": {},
   "source": [
    "### Exercise 4.4 (20 marks) \n",
    "Write a program to check if the given number is a palindrome number. A palindrome number is a number that is same after reverse. For example 545, is a palindrome number."
   ]
  },
  {
   "cell_type": "code",
   "execution_count": null,
   "metadata": {},
   "outputs": [],
   "source": []
  },
  {
   "cell_type": "markdown",
   "metadata": {},
   "source": [
    "---\n",
    "## Lab Exercise 4.5 (20 marks)\n",
    "Ensure you entered your full name and R Number in the top cell<br>\n",
    "Convert to PDF and submit both PDF and IPYNB"
   ]
  },
  {
   "cell_type": "markdown",
   "metadata": {},
   "source": [
    "___\n",
    "![](https://media2.giphy.com/media/5nj4ZZWl6QwneEaBX4/source.gif) <br>\n",
    "\n",
    "*Here are some great reads on this topic:* \n",
    "- __\"Python - Algorithm Design\"__ at *https://www.tutorialspoint.com/python_data_structure/python_algorithm_design.htm <br>\n",
    "- __\"Thinking in Algorithms and Writing Pseudocode\"__ by __Steve Pitchford__ at https://blog.majestic.com/training/thinking-in-algorithms-and-writing-pseudocode/ <br>\n",
    "- __\"Pseudocode 101: An Introduction to Writing Good Pseudocode\"__ by __Sata A. Metwalli__ at h*ttps://towardsdatascience.com/pseudocode-101-an-introduction-to-writing-good-pseudocode-1331cb855be7 <br>\n",
    "\n",
    "*Here are some great videos on these topics:* \n",
    "- __\"What is Pseudocode in Python? Day 21\"__ by __Make School__ at *https://www.youtube.com/watch?v=3WSrPxINIt8 <br>\n",
    "- __\"What is Pseudocode And How Do You Use It?\"__ by __Codecademy__ at *https://www.youtube.com/watch?v=PwGA4Lm8zuE <br>\n",
    "\n",
    "- __\"Conditional Statements in Python\"__ by __John Sturtz__ available at *https://realpython.com/python-conditional-statements/ <br>\n",
    "- __\"Python If Statement explained with examples\"__ by __CHAITANYA SINGH__ available at *https://beginnersbook.com/2018/01/python-if-statement-example/ <br>\n",
    "\n",
    "*Here are some great videos on these topics:* \n",
    "- __\"Python: Data Structures - Lists, Tuples, Sets & Dictionaries tutorial\"__ by __Joe James__ available at *https://www.youtube.com/watch?v=R-HLU9Fl5ug&t=92s <br>\n",
    "- __\"Python Tutorial for Beginners 5: Dictionaries - Working with Key-Value Pairs\"__ by __Corey Schafer__ available at *https://www.youtube.com/watch?v=daefaLgNkw0 <br>\n",
    "- __\"How to Use If Else Statements in Python (Python Tutorial #2)\"__ by __CS Dojo__ available at *https://www.youtube.com/watch?v=AWek49wXGzI <br>\n",
    "- __\"Python If Statements | Python Tutorial #10\"__ by __Amigoscode__ available at *https://www.youtube.com/watch?v=wKQRmXR3jhc <br>\n"
   ]
  },
  {
   "cell_type": "markdown",
   "metadata": {},
   "source": [
    "![](https://quotefancy.com/media/wallpaper/3840x2160/6360863-Walt-Disney-Quote-If-you-can-dream-it-you-can-do-it.jpg)"
   ]
  }
 ],
 "metadata": {
  "kernelspec": {
   "display_name": "Python 3 (ipykernel)",
   "language": "python",
   "name": "python3"
  },
  "language_info": {
   "codemirror_mode": {
    "name": "ipython",
    "version": 3
   },
   "file_extension": ".py",
   "mimetype": "text/x-python",
   "name": "python",
   "nbconvert_exporter": "python",
   "pygments_lexer": "ipython3",
   "version": "3.11.4"
  }
 },
 "nbformat": 4,
 "nbformat_minor": 4
}

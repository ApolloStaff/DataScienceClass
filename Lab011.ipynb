{
 "cells": [
  {
   "cell_type": "markdown",
   "metadata": {},
   "source": [
    "# <font color=darkred>Laboratory 11: Linear Algebra using Numpy\n",
    "</font>"
   ]
  },
  {
   "cell_type": "code",
   "execution_count": null,
   "metadata": {},
   "outputs": [],
   "source": [
    "# Preamble script block to identify host, user, and kernel\n",
    "import sys\n",
    "! hostname\n",
    "! whoami\n",
    "print(sys.executable)\n",
    "print(sys.version)\n",
    "print(sys.version_info)"
   ]
  },
  {
   "cell_type": "markdown",
   "metadata": {},
   "source": [
    "## Full name: \n",
    "## R#: \n",
    "## Title of the notebook:\n",
    "## Date:\n",
    "___"
   ]
  },
  {
   "cell_type": "markdown",
   "metadata": {},
   "source": [
    "> ## [Link to Linear Algebra Codes using Numpy](https://numpy.org/doc/stable/reference/routines.linalg.html)\n",
    "<div style=\"display: flex; justify-content: space-between;\">\n",
    "    <img src=\"https://miro.medium.com/v2/0*eF3twfWubEgjgS8_.png\" alt=\"Image 1\" width=45% height=\"200\">\n",
    "    <img src=\"https://encrypted-tbn0.gstatic.com/images?q=tbn:ANd9GcT5wEnDpYTv5IZq1M2Jc24eZys3NhNEpdNUpA&s\" alt=\"Image 2\" width=45% height=\"200\">\n",
    "</div>\n",
    "\n",
    "\n",
    "\n",
    "## Linear Algebra and Systems of Linear Equations\n",
    "Numerous problems in engineering and science can be described or approximated by linear relationships. For example, if you combine resistors in a complicated circuit, you will obtain a system of linear relationships. Similarly, if you study small deformations of rigid structures, you will also get a system of relationships. In fact, it is difficult to think of any science or engineering field in which relationships of these kind are not fundamental. <br>\n",
    "The study of linear relationship is contained in the field of linear algebra, and this chapter provides a basic overview of some basic linear algebraic vocabulary and concepts that are important for later chapters. Since this text does not assume any prior knowledge of linear algebra, some of the more abstract mathematical concepts and proofs on this topic have been omitted to make the material more accessible. However, the information in this chapter is in no way comprehensive and should not be considered a substitute for a full linear algebra course.<br>\n",
    "### Vectors and Vector Norms\n",
    "A vector in ℝ𝑛  is an 𝑛-tuple, or point, in ℝ𝑛. Vectors can be written horizontally (i.e., with the elements of the vector next to each other) in a row vector, or vertically (i.e., with the elements of the vector on top of each other) in a column vector. If the context of a vector is ambiguous, it usually means the vector is a column vector. The 𝑖-th element of a vector, 𝑣, is denoted by 𝑣𝑖. The transpose of a column vector is a row vector of the same length, and the transpose of a row vector is a column vector. In mathematics, the transpose is denoted by a superscript 𝑇, or 𝑣𝑇. The zero vector is the vector in ℝ𝑛 containing all zeros.<br>\n",
    "\n",
    "\n",
    "The norm of a vector is a measure of its length. There are various ways to define the length of a vector, depending on the metric used (i.e., the distance formula chosen). The most common norm is the **𝐿2 norm**, which is calculated using the distance formula you may recall from grade school.\n",
    "\n",
    "The **𝐿2 norm** of a vector **𝑣** is denoted by **‖𝑣‖₂** and is computed as:\n",
    "\n",
    "$$‖𝑣‖₂ = \\sqrt{\\sum_{i} v_i^2}$$\n",
    "\n",
    "This norm is sometimes referred to as the **Euclidean length**, representing the \"physical\" length of a vector in one-, two-, or three-dimensional space.\n",
    "\n",
    "Another common norm is the **𝐿1 norm**, also known as the **\"Manhattan Distance\"**. It is computed as:\n",
    "\n",
    "$$‖𝑣‖₁ = \\sum_{i} |v_i|$$\n",
    "\n",
    "The name \"Manhattan Distance\" comes from the grid-like road structure in New York City, where this metric is often used to calculate distances.\n",
    "\n",
    "In general, the **p-norm** of a vector, **𝐿𝑝**, is defined as:\n",
    "\n",
    "$$‖𝑣‖ₚ = \\left(\\sum_{i} |v_i|^p\\right)^{1/p}$$\n",
    "\n",
    "Lastly, the **𝐿∞ norm** is the **p-norm** where **𝑝=∞**. The **𝐿∞ norm** is denoted as **‖𝑣‖∞** and is equal to the maximum absolute value in the vector **𝑣**:\n",
    "\n",
    "$$‖𝑣‖∞ = \\max(|v_i|)$$\n",
    "#### Examples"
   ]
  },
  {
   "cell_type": "code",
   "execution_count": 24,
   "metadata": {},
   "outputs": [
    {
     "name": "stdout",
     "output_type": "stream",
     "text": [
      "(1, 5)\n",
      "(4, 1)\n"
     ]
    }
   ],
   "source": [
    "# Create a row vector and column vector, and show the shape of the vectors.\n",
    "import numpy as np\n",
    "vector_row = np.array([[1, -5, 3, 2, 4]])\n",
    "vector_column = np.array([[1], \n",
    "                          [2], \n",
    "                          [3], \n",
    "                          [4]])\n",
    "print(vector_row.shape)\n",
    "print(vector_column.shape)"
   ]
  },
  {
   "cell_type": "code",
   "execution_count": 26,
   "metadata": {},
   "outputs": [
    {
     "name": "stdout",
     "output_type": "stream",
     "text": [
      "[[ 1]\n",
      " [-5]\n",
      " [ 3]\n",
      " [ 2]\n",
      " [ 4]]\n",
      "L_1 is: 15.0\n",
      "L_2 is: 7.4\n",
      "L_inf is: 5.0\n"
     ]
    }
   ],
   "source": [
    "#Transpose the row vector we defined above into a column vector \n",
    "#Calculate the 𝐿1, 𝐿2, and 𝐿∞ norm of it. \n",
    "#Verify that the 𝐿∞ norm of a vector is equivalent to the maximum value of the elements in the vector.\n",
    "\n",
    "from numpy.linalg import norm\n",
    "new_vector = vector_row.T\n",
    "print(new_vector)\n",
    "norm_1 = norm(new_vector, 1)\n",
    "norm_2 = norm(new_vector, 2)\n",
    "norm_inf = norm(new_vector, np.inf)\n",
    "print('L_1 is: %.1f'%norm_1)\n",
    "print('L_2 is: %.1f'%norm_2)\n",
    "print('L_inf is: %.1f'%norm_inf)"
   ]
  },
  {
   "cell_type": "markdown",
   "metadata": {},
   "source": [
    "### Vector Addition and Multiplication\n",
    "\n",
    "**Vector Addition** is defined as the pairwise addition of each element in the vectors being added. For example, if **𝑣** and **𝑤** are vectors in ℝⁿ, then **𝑢 = 𝑣 + 𝑤** is defined as:\n",
    "\n",
    "$$𝑢𝑖 = 𝑣𝑖 + 𝑤𝑖$$\n",
    "\n",
    "**Vector Multiplication** can be defined in several ways depending on the context. **Scalar multiplication** of a vector is the product of a vector and a scalar (i.e., a number in ℝ). Scalar multiplication is defined as the product of each element of the vector by the scalar. Specifically, if **𝛼** is a scalar and **𝑣** is a vector, then **𝑢 = 𝛼𝑣** is defined as:\n",
    "\n",
    "$$𝑢𝑖 = 𝛼𝑣𝑖$$\n",
    "\n",
    "Note that this is exactly how Python implements scalar multiplication with a vector.\n",
    "\n",
    "### Note\n",
    "Show that **𝑎(𝑣 + 𝑤) = 𝑎𝑣 + 𝑎𝑤** (i.e., scalar multiplication of a vector distributes across vector addition).\n",
    "\n",
    "By vector addition, **𝑢 = 𝑣 + 𝑤** is the vector with:\n",
    "\n",
    "$$𝑢𝑖 = 𝑣𝑖 + 𝑤𝑖$$\n",
    "\n",
    "By scalar multiplication of a vector, **𝑥 = 𝛼𝑢** is the vector with:\n",
    "\n",
    "$$𝑥𝑖 = 𝛼(𝑣𝑖 + 𝑤𝑖)$$\n",
    "\n",
    "Since **𝛼**, **𝑣𝑖**, and **𝑤𝑖** are scalars, multiplication distributes, and:\n",
    "\n",
    "$$𝑥𝑖 = 𝛼𝑣𝑖 + 𝛼𝑤𝑖$$\n",
    "\n",
    "Therefore:\n",
    "\n",
    "$$𝑎(𝑣 + 𝑤) = 𝑎𝑣 + 𝑎𝑤$$\n",
    "\n",
    "### Dot Product\n",
    "\n",
    "The **dot product** of two vectors is the sum of the products of the respective elements in each vector. It is denoted by **⋅**, and **𝑣⋅𝑤** is read as \"v dot w.\" For vectors **𝑣** and **𝑤** in ℝⁿ, the dot product **𝑑 = 𝑣⋅𝑤** is defined as:\n",
    "\n",
    "$$𝑑 = \\sum_{𝑖=1}^{𝑛} 𝑣𝑖𝑤𝑖$$\n",
    "\n",
    "The angle between two vectors, **𝜃**, is given by the formula:\n",
    "\n",
    "$$𝑣⋅𝑤 = ‖𝑣‖₂‖𝑤‖₂ \\cos𝜃$$\n",
    "\n",
    "The dot product is a measure of how similarly directed the two vectors are. For example, the vectors **(1, 1)** and **(2, 2)** are parallel. If you compute the angle between them using the dot product, you will find that **𝜃 = 0**. If the angle between the vectors is **𝜃 = 𝜋/2**, then the vectors are said to be perpendicular (orthogonal), and the dot product is 0.\n",
    "### Cross Product and Linear Combinations\n",
    "\n",
    "The **cross product** between two vectors, **𝑣** and **𝑤**, is denoted as **𝑣 × 𝑤**. It is defined by the formula:\n",
    "\n",
    "$$𝑣 × 𝑤 = ‖𝑣‖₂ ‖𝑤‖₂ \\sin(𝜃) \\, \\mathbf{n}$$\n",
    "\n",
    "where:\n",
    "- **𝜃** is the angle between **𝑣** and **𝑤** (which can be computed using the dot product).\n",
    "- **𝑛** is a vector perpendicular to both **𝑣** and **𝑤** with unit length (i.e., the length is one).\n",
    "\n",
    "The geometric interpretation of the cross product is a vector that is perpendicular to both **𝑣** and **𝑤**, with a length equal to the area of the parallelogram formed by the two vectors.\n",
    "\n",
    "### Linear Combinations\n",
    "\n",
    "Assume that **𝑆** is a set where addition and scalar multiplication are defined. A **linear combination** of **𝑆** is defined as:\n",
    "\n",
    "$$\\sum \\alpha_i s_i$$\n",
    "\n",
    "where:\n",
    "- **𝛼𝑖** is any real number, and\n",
    "- **𝑠𝑖** is the 𝑖th object in **𝑆**.\n",
    "\n",
    "The **𝛼𝑖** values are sometimes called the coefficients of **𝑠𝑖**. Linear combinations can describe various scenarios. For example, a grocery bill can be represented as **∑𝑐𝑖𝑛𝑖**, where **𝑐𝑖** is the cost of item **𝑖** and **𝑛𝑖** is the quantity of item **𝑖** purchased. Therefore, the total cost is a linear combination of the items purchased.\n",
    "\n",
    "### Linear Independence\n",
    "\n",
    "A set is called **linearly independent** if no object in the set can be written as a linear combination of the other objects in the set. For the purposes of this book, we will only consider the linear independence of a set of vectors. If a set of vectors is not linearly independent, it is considered **linearly dependent**.\n"
   ]
  },
  {
   "cell_type": "code",
   "execution_count": 40,
   "metadata": {},
   "outputs": [
    {
     "name": "stdout",
     "output_type": "stream",
     "text": [
      "[[101]]\n"
     ]
    }
   ],
   "source": [
    "# Compute the dot product between the vectors 𝑣 =[10,9,3] and transpose of 𝑤 =[2,5,12]\n",
    "from numpy import  dot\n",
    "v = np.array([[10, 9, 3]])\n",
    "w = np.array([[2, 5, 12]])\n",
    "w_transpose = w.T\n",
    "dot_product = dot(v,w_transpose)\n",
    "print(dot_product)"
   ]
  },
  {
   "cell_type": "code",
   "execution_count": 48,
   "metadata": {},
   "outputs": [
    {
     "name": "stdout",
     "output_type": "stream",
     "text": [
      "[[0.97992471]]\n"
     ]
    }
   ],
   "source": [
    "# Compute the angle between the vectors 𝑣 =[10,9,3] and 𝑤 =[2,5,12]\n",
    "from numpy import arccos,   #arccos is the inverse of cos\n",
    "v = np.array([[10, 9, 3]])\n",
    "w = np.array([[2, 5, 12]])\n",
    "theta = arccos(dot(v, w.T)/(norm(v)*norm(w)))\n",
    "print(theta)"
   ]
  },
  {
   "cell_type": "code",
   "execution_count": 71,
   "metadata": {},
   "outputs": [
    {
     "name": "stdout",
     "output_type": "stream",
     "text": [
      "[[ 0  0 -6]]\n"
     ]
    }
   ],
   "source": [
    "# Given the vectors 𝑣=[0,2,0] and 𝑤=[3,0,0] use the Numpy function cross to compute the cross product of v and w.\n",
    "v = np.array([[0, 2, 0]])\n",
    "w = np.array([[3, 0, 0]])\n",
    "print(np.cross(v, w))"
   ]
  },
  {
   "cell_type": "markdown",
   "metadata": {},
   "source": [
    "### Matrices\n",
    "\n",
    "An **𝑚 × 𝑛** matrix is a rectangular table of numbers consisting of **𝑚** rows and **𝑛** columns. The norm of a matrix can be considered as a particular kind of vector norm. If we treat the **𝑚 × 𝑛** elements of **𝑀** as the elements of an **𝑚𝑛** dimensional vector, then the **p-norm** of this vector can be written as:\n",
    "\n",
    "$$‖𝑀‖𝑝 = \\left(\\sum_{𝑖=1}^{𝑚} \\sum_{𝑗=1}^{𝑛} |𝑎𝑖𝑗|^𝑝 \\right)^{\\frac{1}{𝑝}}$$\n",
    "\n",
    "You can calculate the matrix norm using the same `norm` function in NumPy as you would for a vector.\n",
    "\n",
    "Matrix addition and scalar multiplication for matrices work the same way as they do for vectors. However, **matrix multiplication** between two matrices, **𝑃** and **𝑄**, is defined when **𝑃** is an **𝑚 × 𝑝** matrix and **𝑄** is a **𝑝 × 𝑛** matrix. The result of **𝑀 = 𝑃𝑄** is a matrix **𝑀** that is **𝑚 × 𝑛**. \n",
    "\n",
    "The dimension with size **𝑝** is called the **inner matrix dimension**, and the inner matrix dimensions must match (i.e., the number of columns in **𝑃** and the number of rows in **𝑄** must be the same) for matrix multiplication to be defined. The dimensions **𝑚** and **𝑛** are called the **outer matrix dimensions**. Formally, if **𝑃** is **𝑚 × 𝑝** and **𝑄** is **𝑝 × 𝑛**, then **𝑀 = 𝑃𝑄** is defined as:\n",
    "\n",
    "$$𝑀𝑖𝑗 = \\sum_{𝑘=1}^{𝑝} 𝑃𝑖𝑘 𝑄𝑘𝑗$$\n",
    "\n",
    "In Python, the product of two matrices **𝑃** and **𝑄** is achieved by using the `dot` method in NumPy.\n",
    "\n",
    "The **transpose** of a matrix is a reversal of its rows with its columns. The transpose is denoted by a superscript **𝑇**, such as **𝑀^𝑇** being the transpose of matrix **𝑀**. In Python, the `T` attribute for a NumPy array is used to get the transpose. For example, if **𝑀** is a matrix, then **𝑀.T** is its transpose.\n",
    "\n",
    "### Square Matrices and Determinants\n",
    "\n",
    "A **square matrix** is an **𝑛 × 𝑛** matrix, meaning it has the same number of rows as columns. The **determinant** is an important property of square matrices and is denoted by **det(𝑀)** in both mathematics and NumPy's `linalg` package. Sometimes, the determinant is also represented as **|𝑀|**.\n",
    "\n",
    "#### Determinant of a 2×2 Matrix\n",
    "For a 2×2 matrix, the determinant is calculated as:\n",
    "\n",
    "$$|𝑀| = \\begin{vmatrix} a & b \\\\ c & d \\end{vmatrix} = ad - bc$$\n",
    "\n",
    "#### Determinant of a 3×3 Matrix\n",
    "For a 3×3 matrix, the determinant is calculated as:\n",
    "\n",
    "$$|𝑀| = \\begin{vmatrix} a & b & c \\\\ d & e & f \\\\ g & h & i \\end{vmatrix} = a \\begin{vmatrix} e & f \\\\ h & i \\end{vmatrix} - b \\begin{vmatrix} d & f \\\\ g & i \\end{vmatrix} + c \\begin{vmatrix} d & e \\\\ g & h \\end{vmatrix}$$\n",
    "\n",
    "Which simplifies to:\n",
    "\n",
    "$$|𝑀| = a(ei - fh) - b(di - fg) + c(dh - eg)$$\n",
    "\n",
    "The process can be extended to calculate the determinant for higher-dimensional matrices, but it's much easier to calculate using Python. We'll see an example of this later.\n",
    "\n",
    "### Identity Matrix\n",
    "\n",
    "The **identity matrix** is a square matrix with ones on the diagonal and zeros elsewhere. It is usually denoted by **𝐼** and is analogous to the real number identity, 1. Multiplying any matrix by **𝐼** (of compatible size) will produce the same matrix.\n",
    "\n",
    "### Inverse of a Square Matrix\n",
    "\n",
    "The **inverse** of a square matrix **𝑀** is a matrix of the same size, denoted as **𝑁**, such that **𝑀 ⋅ 𝑁 = 𝐼**, where **𝐼** is the identity matrix. The inverse of a matrix is analogous to the inverse of real numbers. For example, the inverse of 3 is **1/3** because **(3) × (1/3) = 1**.\n",
    "\n",
    "A matrix is said to be **invertible** if it has an inverse. The inverse of a matrix is unique, meaning that for an invertible matrix, there is only one inverse. If **𝑀** is a square matrix, its inverse is denoted by **𝑀⁻¹** in mathematics and can be computed in Python using the `inv` function from NumPy's `linalg` package.\n",
    "\n",
    "#### Inverse of a 2×2 Matrix\n",
    "For a 2×2 matrix, the analytical solution of the matrix inverse is:\n",
    "\n",
    "$$𝑀^{-1} = \\begin{pmatrix} a & b \\\\ c & d \\end{pmatrix}^{-1} = \\frac{1}{|𝑀|} \\begin{pmatrix} d & -b \\\\ -c & a \\end{pmatrix}$$\n",
    "\n",
    "where **|𝑀|** is the determinant of the matrix **𝑀**.\n",
    "\n",
    "As the matrix dimension increases, the calculation of the matrix inverse becomes more complex. Various methods can simplify this process, such as **Gaussian elimination**, **Newton's method**, **Eigendecomposition**, and others. We'll explore some of these methods after learning how to solve a system of linear equations, as the process is essentially the same.\n",
    "\n",
    "### Singular and Nonsingular Matrices\n",
    "\n",
    "Just as 0 has no inverse in the real-number system, some matrices do not have inverses. These matrices are called **singular**. Matrices that do have an inverse are called **nonsingular**.\n",
    "\n",
    "One way to determine if a matrix is singular is by computing its determinant. If the determinant is 0, then the matrix is singular; otherwise, it is nonsingular.\n",
    "\n",
    "### Ill-Conditioned Matrices\n",
    "\n",
    "A matrix that is close to being **singular** (i.e., its determinant is close to 0) is called **ill-conditioned**. Although ill-conditioned matrices do have inverses, they pose numerical challenges. This is similar to dividing by a very small number, which can lead to overflow, underflow, or significant round-off errors. \n",
    "\n",
    "The **condition number** is a measure of how ill-conditioned a matrix is. You can compute it using NumPy's `cond` function from the `linalg` module. The higher the condition number, the closer the matrix is to being singular.\n",
    "\n",
    "### Rank of a Matrix\n",
    "\n",
    "The **rank** of an **𝑚 × 𝑛** matrix **𝐴** is the number of linearly independent columns or rows of **𝐴**, denoted as **rank(𝐴)**. It can be shown that the number of linearly independent rows is always equal to the number of linearly independent columns for any matrix.\n",
    "\n",
    "A matrix is called **full rank** if **rank(𝐴) = min(𝑚, 𝑛)**. This means that all of its columns are linearly independent. \n",
    "\n",
    "An **augmented matrix** is a matrix **𝐴** concatenated with a vector **𝑦**, written as **[𝐴, 𝑦]**. This is commonly read as \"𝐴 augmented with 𝑦.\" You can use `np.concatenate` in NumPy to concatenate them.\n",
    "\n",
    "If **rank([𝐴, 𝑦]) = rank(𝐴) + 1**, then the vector **𝑦** represents \"new\" information. In other words, it cannot be expressed as a linear combination of the columns in **𝐴**. The rank of a matrix is crucial in understanding the solutions to linear equations, which will be discussed in the final section of this chapter.\n"
   ]
  },
  {
   "cell_type": "code",
   "execution_count": null,
   "metadata": {},
   "outputs": [],
   "source": [
    "#Compute the matrix product of 𝑃 and 𝑄 \n",
    "# 𝑃 =[[1,7],[2,3],[5,0]] and 𝑄=[[2,6,3,1],[1,2,3,4]]\n",
    "# Show that the product of 𝑄 and 𝑃  will produce an error.\n",
    "P = np.array([[1, 7], [2, 3], [5, 0]])\n",
    "Q = np.array([[2, 6, 3, 1], [1, 2, 3, 4]])\n",
    "print(P)\n",
    "print(Q)\n",
    "print(np.dot(P, Q))\n",
    "np.dot(Q, P)"
   ]
  },
  {
   "cell_type": "code",
   "execution_count": 78,
   "metadata": {},
   "outputs": [
    {
     "name": "stdout",
     "output_type": "stream",
     "text": [
      "M:\n",
      " [[0 2 1 3]\n",
      " [3 2 8 1]\n",
      " [1 0 0 3]\n",
      " [0 3 2 1]]\n",
      "Determinant: -38.0\n",
      "I:\n",
      " [[1. 0. 0. 0.]\n",
      " [0. 1. 0. 0.]\n",
      " [0. 0. 1. 0.]\n",
      " [0. 0. 0. 1.]]\n",
      "M*I:\n",
      " [[0. 2. 1. 3.]\n",
      " [3. 2. 8. 1.]\n",
      " [1. 0. 0. 3.]\n",
      " [0. 3. 2. 1.]]\n"
     ]
    }
   ],
   "source": [
    "from numpy.linalg import det\n",
    "\n",
    "M = np.array([[0,2,1,3], \n",
    "             [3,2,8,1], \n",
    "             [1,0,0,3],\n",
    "             [0,3,2,1]])\n",
    "print('M:\\n', M)\n",
    "\n",
    "print('Determinant: %.1f'%det(M))\n",
    "I = np.eye(4)\n",
    "print('I:\\n', I)\n",
    "print('M*I:\\n', np.dot(M, I))"
   ]
  },
  {
   "cell_type": "code",
   "execution_count": 80,
   "metadata": {},
   "outputs": [
    {
     "name": "stdout",
     "output_type": "stream",
     "text": [
      "Inv M:\n",
      " [[-1.57894737 -0.07894737  1.23684211  1.10526316]\n",
      " [-0.63157895 -0.13157895  0.39473684  0.84210526]\n",
      " [ 0.68421053  0.18421053 -0.55263158 -0.57894737]\n",
      " [ 0.52631579  0.02631579 -0.07894737 -0.36842105]]\n",
      "det(p):\n",
      " 0.0\n"
     ]
    }
   ],
   "source": [
    "from numpy.linalg import inv\n",
    "\n",
    "print('Inv M:\\n', inv(M))\n",
    "P = np.array([[0,1,0],\n",
    "              [0,0,0],\n",
    "              [1,0,1]])\n",
    "print('det(p):\\n', det(P))"
   ]
  },
  {
   "cell_type": "code",
   "execution_count": 82,
   "metadata": {},
   "outputs": [
    {
     "name": "stdout",
     "output_type": "stream",
     "text": [
      "Condition number:\n",
      " 4.048917339522305\n",
      "Rank:\n",
      " 3\n",
      "Augmented matrix:\n",
      " [[1 1 0 1]\n",
      " [0 1 0 2]\n",
      " [1 0 1 1]]\n"
     ]
    }
   ],
   "source": [
    "from numpy.linalg import  cond, matrix_rank\n",
    "\n",
    "A = np.array([[1,1,0],\n",
    "              [0,1,0],\n",
    "              [1,0,1]])\n",
    "\n",
    "print('Condition number:\\n', cond(A))\n",
    "print('Rank:\\n', matrix_rank(A))\n",
    "y = np.array([[1], [2], [1]])\n",
    "A_y = np.concatenate((A, y), axis = 1)\n",
    "print('Augmented matrix:\\n', A_y)"
   ]
  },
  {
   "cell_type": "markdown",
   "metadata": {},
   "source": [
    "### Solutions to Systems of Linear Equations\n",
    "\n",
    "Consider a system of linear equations in matrix form, **𝐴𝑥 = 𝑦**, where **𝐴** is an **𝑚 × 𝑛** matrix. This system consists of **𝑚** equations and **𝑛** unknowns. A solution to the system is a vector **𝑥** in **ℝⁿ** that satisfies the equation. Depending on the values of **𝐴** and **𝑦**, there are three possible outcomes for **𝑥**: \n",
    "1. No solution,\n",
    "2. One unique solution,\n",
    "3. An infinite number of solutions.\n",
    "\n",
    "#### 1. Gauss Elimination Method\n",
    "The Gauss Elimination method is used to transform matrix **𝐴** into an upper triangular form to solve the system of equations. This form allows for easier computation of the variables using back-substitution.\n",
    "\n",
    "#### 2. Gauss-Jordan Elimination Method\n",
    "Gauss-Jordan Elimination is a method that transforms **𝐴** into a diagonal form, making it simpler to solve for the unknowns. The resulting matrix form is a simple form, where each equation directly gives the value of one unknown.\n",
    "\n",
    "#### 3. LU Decomposition Method\n",
    "The Gauss and Gauss-Jordan methods involve modifying both **𝐴** and **𝑦** simultaneously, which can be inefficient when solving multiple systems with different **𝑦** values but the same **𝐴** matrix. The LU decomposition method addresses this by decomposing **𝐴** into two matrices: **𝐿** (lower triangular) and **𝑈** (upper triangular). This approach allows for solving the system more efficiently.\n",
    "This allows for solving the system in two steps: first by forward substitution to solve **𝐿𝑀 = 𝑦**, and then by backward substitution to solve **𝑈𝑥 = 𝑀**.\n",
    "\n",
    "#### 4. Gauss-Seidel Method\n",
    "\n",
    "The Gauss-Seidel Method is an iterative approach to solving systems of linear equations. This method updates each element in the solution vector **𝑥** using the most recent estimates.<br>\n",
    "**Initial Guess:** Start by assuming initial values for **𝑥₂, 𝑥₃, …, 𝑥ₙ** (except **𝑥₁**).<br>\n",
    "**Update:** Calculate **𝑥₁** using the current values of the other elements.<br>\n",
    "**Iterate:** Using the newly calculated **𝑥₁** and the remaining elements of **𝑥** (except **𝑥₂**), update **𝑥₂**.<br>\n",
    "**Repeat:** Continue this process for all elements in **𝑥** until you complete the first iteration.<br>\n",
    "**Convergence:** Continue iterating until the values of **𝑥** converge to a stable solution.<br>\n",
    "\n",
    "The key feature of the Gauss-Seidel method is that it always uses the most up-to-date value of each variable to compute the next one. This approach can lead to faster convergence compared to methods that use older values.\n",
    "\n",
    "\n",
    "### Solve Systems of Linear Equations in Python\n",
    "\n",
    "While we've explored various methods to solve systems of linear equations, Python offers a much simpler approach. In this section, we'll use Python to solve such systems with minimal effort.\n",
    "\n",
    "The easiest way to solve a system of linear equations in Python is by using the `solve` function from the Numpy library.\n",
    "\n",
    "#### Example:\n",
    "Let's use `numpy.linalg.solve` to solve the following system of equations:\n",
    "\\\n",
    "\\begin{align*}\n",
    "4x_1 + 3x_2 - 5x_3 &= 25 \\\\\n",
    "-2x_1 - 4x_2 + 5x_3 &= -3 \\\\\n",
    "8x_1 + 8x_2 &= 3\n",
    "\\end{align*}\n"
   ]
  },
  {
   "cell_type": "code",
   "execution_count": 176,
   "metadata": {},
   "outputs": [
    {
     "name": "stdout",
     "output_type": "stream",
     "text": [
      "[ 2.20833333 -2.58333333 -0.18333333]\n"
     ]
    }
   ],
   "source": [
    "#Use numpy.linalg.solve to solve the following equations.\n",
    "import numpy as np\n",
    "\n",
    "A = np.array([[4, 3, -5], \n",
    "              [-2, -4, 5], \n",
    "              [8, 8, 0]])\n",
    "y = np.array([2, 5, -3])\n",
    "\n",
    "x = np.linalg.solve(A, y)\n",
    "print(x)"
   ]
  },
  {
   "cell_type": "code",
   "execution_count": 101,
   "metadata": {},
   "outputs": [
    {
     "name": "stdout",
     "output_type": "stream",
     "text": [
      "[ 2.20833333 -2.58333333 -0.18333333]\n"
     ]
    }
   ],
   "source": [
    "# Solve the above equations using the matrix inversion approach.\n",
    "A_inv = np.linalg.inv(A)\n",
    "x = np.dot(A_inv, y)\n",
    "print(x)"
   ]
  },
  {
   "cell_type": "code",
   "execution_count": 103,
   "metadata": {},
   "outputs": [
    {
     "name": "stdout",
     "output_type": "stream",
     "text": [
      "P:\n",
      " [[0. 0. 1.]\n",
      " [0. 1. 0.]\n",
      " [1. 0. 0.]]\n",
      "L:\n",
      " [[ 1.    0.    0.  ]\n",
      " [-0.25  1.    0.  ]\n",
      " [ 0.5   0.5   1.  ]]\n",
      "U:\n",
      " [[ 8.   8.   0. ]\n",
      " [ 0.  -2.   5. ]\n",
      " [ 0.   0.  -7.5]]\n",
      "LU:\n",
      " [[ 8.  8.  0.]\n",
      " [-2. -4.  5.]\n",
      " [ 4.  3. -5.]]\n"
     ]
    }
   ],
   "source": [
    "# Verify the above 𝐿 and 𝑈  matrices are the LU decomposition of matrix 𝐴. We should see that 𝐴=𝐿𝑈\n",
    "from scipy.linalg import lu\n",
    "\n",
    "P, L, U = lu(A)\n",
    "print('P:\\n', P)\n",
    "print('L:\\n', L)\n",
    "print('U:\\n', U)\n",
    "print('LU:\\n',np.dot(L, U))"
   ]
  },
  {
   "cell_type": "markdown",
   "metadata": {},
   "source": [
    "### Exercise 11.0  (80 marks)\n",
    "1. Given the vector [[1, -5, 3, 2, 4]], calculates the Manhattan Distance, Euclidean_Distance and 𝐿∞ norm of a vector"
   ]
  },
  {
   "cell_type": "code",
   "execution_count": null,
   "metadata": {},
   "outputs": [],
   "source": []
  },
  {
   "cell_type": "markdown",
   "metadata": {},
   "source": [
    "2. Compute the dot and angle product between the vectors x =[7,8,9] and transpose of y =[1,2,4]"
   ]
  },
  {
   "cell_type": "code",
   "execution_count": null,
   "metadata": {},
   "outputs": [],
   "source": []
  },
  {
   "cell_type": "markdown",
   "metadata": {},
   "source": [
    "3. Given the vectors 𝑣=[1,2,4] and 𝑤=[3,6,9] use the Numpy function cross to compute the cross product of v and w."
   ]
  },
  {
   "cell_type": "code",
   "execution_count": null,
   "metadata": {},
   "outputs": [],
   "source": []
  },
  {
   "cell_type": "markdown",
   "metadata": {},
   "source": [
    "#### For \n",
    "```plaintext\n",
    "          ⎡ 0  7  1  3 ⎤\n",
    "x =       ⎢ 3  7  8  1 ⎥\n",
    "          ⎢ 1  0  0  3 ⎥\n",
    "          ⎣ 0  3  7  1 ⎦\n",
    "\n",
    "          \n",
    "4. Find the Determinant of x"
   ]
  },
  {
   "cell_type": "code",
   "execution_count": null,
   "metadata": {},
   "outputs": [],
   "source": []
  },
  {
   "cell_type": "markdown",
   "metadata": {},
   "source": [
    "5. What is the identity Matrix of x"
   ]
  },
  {
   "cell_type": "code",
   "execution_count": null,
   "metadata": {},
   "outputs": [],
   "source": []
  },
  {
   "cell_type": "markdown",
   "metadata": {},
   "source": [
    "6. What is the inverse of x"
   ]
  },
  {
   "cell_type": "code",
   "execution_count": null,
   "metadata": {},
   "outputs": [],
   "source": []
  },
  {
   "cell_type": "markdown",
   "metadata": {},
   "source": [
    "7. What is the condition number and rank of x"
   ]
  },
  {
   "cell_type": "code",
   "execution_count": null,
   "metadata": {},
   "outputs": [],
   "source": []
  },
  {
   "cell_type": "markdown",
   "metadata": {},
   "source": [
    "8. Find the values for x1,x2,x3 in these equations:\n",
    "\\\n",
    "\\begin{align*}\n",
    "6x_1 + 3x_2 - 7x_3 &= 25 \\\\\n",
    "-2x_1 - 6x_2 + 5x_3 &= -3 \\\\\n",
    "8x_1 + 4x_2 &= 3\n",
    "\\end{align*}"
   ]
  },
  {
   "cell_type": "code",
   "execution_count": 187,
   "metadata": {},
   "outputs": [
    {
     "name": "stdout",
     "output_type": "stream",
     "text": [
      "X1 =  1.775 \t X2 =  -2.8 \t X3 =  -3.25\n"
     ]
    }
   ],
   "source": [
    "#Use numpy.linalg.solve to solve the following equations.\n",
    "import numpy as np\n",
    "\n",
    "x = np.array([[6, 3, -7], \n",
    "              [-2, -6, 5], \n",
    "              [8, 4, 0]])\n",
    "y = np.array([25, -3, 3])\n",
    "\n",
    "x1,x2,x3 = np.linalg.solve(x, y)\n",
    "print('X1 = ',x1,'\\t X2 = ',x2,'\\t X3 = ',x3)"
   ]
  },
  {
   "cell_type": "markdown",
   "metadata": {},
   "source": [
    "## Lab Exercise 11.2 (20 marks)\n",
    "Ensure you entered your full name and R Number in the top cell<br>\n",
    "Convert to PDF and submit both PDF and IPYNB"
   ]
  },
  {
   "cell_type": "markdown",
   "metadata": {},
   "source": [
    "___\n",
    "## <font color=orange>This is a Numpy Cheat Sheet!</font>\n",
    "\n",
    "![](https://blog.finxter.com/wp-content/uploads/2019/10/grafik-1-1024x725.png)\n",
    "\n",
    "### Check out this link for more: <br>\n",
    "https://blog.finxter.com/collection-10-best-numpy-cheat-sheets-every-python-coder-must-own/"
   ]
  },
  {
   "cell_type": "markdown",
   "metadata": {},
   "source": [
    "___\n",
    "![](https://media2.giphy.com/media/5nj4ZZWl6QwneEaBX4/source.gif) <br>\n",
    "\n",
    "*Here are some of the resources used for creating this notebook:* \n",
    "- Johnson, J. (2020). Python Numpy Tutorial (with Jupyter and Colab). Retrieved September 15, 2020, from https://cs231n.github.io/python-numpy-tutorial/ <br>\n",
    "- Willems, K. (2019). (Tutorial) Python NUMPY Array TUTORIAL. Retrieved September 15, 2020, from https://www.datacamp.com/community/tutorials/python-numpy-tutorial?utm_source=adwords_ppc <br>\n",
    "- Willems, K. (2017). NumPy Cheat Sheet: Data Analysis in Python. Retrieved September 15, 2020, from https://www.datacamp.com/community/blog/python-numpy-cheat-sheet <br>\n",
    "- W3resource. (2020). NumPy: Compare two given arrays. Retrieved September 15, 2020, from https://www.w3resource.com/python-exercises/numpy/python-numpy-exercise-28.php <br>\n",
    "\n",
    "\n",
    "\n",
    "*Here are some great reads on this topic:* \n",
    "- __\"Python NumPy Tutorial\"__ available at *https://www.geeksforgeeks.org/python-numpy-tutorial/<br>\n",
    "- __\"What Is NumPy?\"__ a collection of blogs, available at *https://realpython.com/tutorials/numpy/ <br>\n",
    "- __\"Look Ma, No For-Loops: Array Programming With NumPy\"__ by __Brad Solomon__ available at *https://realpython.com/numpy-array-programming/ <br>\n",
    "- __\"The Ultimate Beginner’s Guide to NumPy\"__ by __Anne Bonner__ available at *https://towardsdatascience.com/the-ultimate-beginners-guide-to-numpy-f5a2f99aef54 <br>\n",
    "\n",
    "\n",
    "*Here are some great videos on these topics:* \n",
    "- __\"Learn NUMPY in 5 minutes - BEST Python Library!\"__ by __Python Programmer__ available at *https://www.youtube.com/watch?v=xECXZ3tyONo <br>\n",
    "- __\"Python NumPy Tutorial for Beginners\"__ by __freeCodeCamp.org__ available at *https://www.youtube.com/watch?v=QUT1VHiLmmI <br>\n",
    "- __\"Complete Python NumPy Tutorial (Creating Arrays, Indexing, Math, Statistics, Reshaping)\"__ by __Keith Galli__ available at *https://www.youtube.com/watch?v=GB9ByFAIAH4 <br>\n",
    "- __\"Python NumPy Tutorial | NumPy Array | Python Tutorial For Beginners | Python Training | Edureka\"__ by __edureka!__ available at *https://www.youtube.com/watch?v=8JfDAm9y_7s <br>"
   ]
  },
  {
   "cell_type": "markdown",
   "metadata": {},
   "source": [
    "![](https://quotefancy.com/media/wallpaper/3840x2160/722175-Pythagoras-Quote-Number-rules-the-universe.jpg)"
   ]
  }
 ],
 "metadata": {
  "kernelspec": {
   "display_name": "Python 3 (ipykernel)",
   "language": "python",
   "name": "python3"
  },
  "language_info": {
   "codemirror_mode": {
    "name": "ipython",
    "version": 3
   },
   "file_extension": ".py",
   "mimetype": "text/x-python",
   "name": "python",
   "nbconvert_exporter": "python",
   "pygments_lexer": "ipython3",
   "version": "3.12.4"
  }
 },
 "nbformat": 4,
 "nbformat_minor": 4
}

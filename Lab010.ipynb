{
 "cells": [
  {
   "cell_type": "markdown",
   "metadata": {},
   "source": [
    "# <font color=darkred>Laboratory 10: Numpy \n",
    "</font>"
   ]
  },
  {
   "cell_type": "code",
   "execution_count": null,
   "metadata": {},
   "outputs": [],
   "source": [
    "# Preamble script block to identify host, user, and kernel\n",
    "import sys\n",
    "! hostname\n",
    "! whoami\n",
    "print(sys.executable)\n",
    "print(sys.version)\n",
    "print(sys.version_info)"
   ]
  },
  {
   "cell_type": "markdown",
   "metadata": {},
   "source": [
    "## Full name: \n",
    "## R#: \n",
    "## Title of the notebook:\n",
    "## Date:\n",
    "___"
   ]
  },
  {
   "cell_type": "markdown",
   "metadata": {},
   "source": [
    "![](https://upload.wikimedia.org/wikipedia/commons/thumb/3/31/NumPy_logo_2020.svg/1280px-NumPy_logo_2020.svg.png) <br>"
   ]
  },
  {
   "cell_type": "markdown",
   "metadata": {},
   "source": [
    "## <font color=purple>Numpy</font>\n",
    "Numpy is the core library for scientific computing in Python. It provides a high-performance multidimensional array object, and tools for working with these arrays. The library’s name is short for “Numeric Python” or “Numerical Python”. If you are curious about NumPy, this cheat sheet is recommended:\n",
    "https://s3.amazonaws.com/assets.datacamp.com/blog_assets/Numpy_Python_Cheat_Sheet.pdf\n",
    "\n",
    "### <font color=purple>Arrays</font>\n",
    "\n",
    "A numpy array is a grid of values, all of the same type, and is indexed by a tuple of nonnegative integers. The number of dimensions is the rank of the array; the shape of an array is a tuple of integers giving the size of the array along each dimension. In other words, an array contains information about the raw data, how to locate an element and how to interpret an element.To make a numpy array, you can just use the np.array() function. All you need to do is pass a list to it. Don’t forget that, in order to work with the np.array() function, you need to make sure that the numpy library is present in your environment.\n",
    "If you want to read more about the differences between a Python list and NumPy array, this link is recommended:\n",
    "https://webcourses.ucf.edu/courses/1249560/pages/python-lists-vs-numpy-arrays-what-is-the-difference\n",
    "\n"
   ]
  },
  {
   "cell_type": "markdown",
   "metadata": {},
   "source": [
    "___\n",
    "### Example- 1D Arrays\n",
    "__Let's create a 1D array from the 2000s (2000-2009):__ "
   ]
  },
  {
   "cell_type": "code",
   "execution_count": 5,
   "metadata": {
    "collapsed": false,
    "jupyter": {
     "outputs_hidden": false
    }
   },
   "outputs": [
    {
     "name": "stdout",
     "output_type": "stream",
     "text": [
      "[2000, 2001, 2002, 2003, 2004, 2005, 2006, 2007, 2008, 2009]\n"
     ]
    },
    {
     "data": {
      "text/plain": [
       "array([2000, 2001, 2002, 2003, 2004, 2005, 2006, 2007, 2008, 2009])"
      ]
     },
     "execution_count": 5,
     "metadata": {},
     "output_type": "execute_result"
    }
   ],
   "source": [
    "import numpy as np             #First, we need to import \"numpy\"\n",
    "mylist = [2000,2001,2002,2003,2004,2005,2006,2007,2008,2009]         #Create a list of the years\n",
    "print(mylist)                 #Check how it looks\n",
    "np.array(mylist)              #Define it as a numpy array\n"
   ]
  },
  {
   "cell_type": "markdown",
   "metadata": {},
   "source": [
    "___\n",
    "### Example- n-Dimensional Arrays\n",
    "__Let's create a 5x2 array from the 2000s (2000-2009):__ "
   ]
  },
  {
   "cell_type": "code",
   "execution_count": null,
   "metadata": {
    "collapsed": false,
    "jupyter": {
     "outputs_hidden": false
    }
   },
   "outputs": [],
   "source": [
    "myotherlist = [[2000,2001],[2002,2003],[2004,2005],[2006,2007],[2008,2009]]     #Since I want a 5x2 array, I should group the years two by two\n",
    "print(myotherlist)             #See how it looks as a list\n",
    "np.array(myotherlist)          #See how it looks as a numpy array"
   ]
  },
  {
   "cell_type": "markdown",
   "metadata": {},
   "source": [
    "### <font color=purple>Arrays Arithmetic</font>\n",
    "\n",
    "Once you have created the arrays, you can do basic Numpy operations. Numpy offers a variety of operations applicable on arrays. From basic operations such as summation, subtraction, multiplication and division to more advanced and essential operations such as matrix multiplication and other elementwise operations. In the examples below, we will go over some of these:\n"
   ]
  },
  {
   "cell_type": "markdown",
   "metadata": {},
   "source": [
    "___\n",
    "### Example- 1D Array Arithmetic\n",
    "- Define a 1D array with [0,12,24,36,48,60,72,84,96]\n",
    "- Multiple all elements by 2\n",
    "- Take all elements to the power of 2\n",
    "- Find the maximum value of the array and its position\n",
    "- Find the minimum value of the array and its position\n",
    "- Define another 1D array with [-12,0,12,24,36,48,60,72,84]\n",
    "- Find the summation and subtraction of these two arrays\n",
    "- Find the multiplication of these two arrays"
   ]
  },
  {
   "cell_type": "code",
   "execution_count": null,
   "metadata": {
    "collapsed": false,
    "jupyter": {
     "outputs_hidden": false
    }
   },
   "outputs": [],
   "source": [
    "import numpy as np         #import numpy\n",
    "Array1 = np.array([0,12,24,36,48,60,72,84,96])     #Step1: Define Array1\n",
    "print(Array1)\n",
    "print(Array1*2)     #Step2: Multiple all elements by 2\n",
    "print(Array1**2)     #Step3: Take all elements to the power of 2\n",
    "\n",
    "print(np.power(Array1,2)) #Another way to do the same thing, by using a function in numpy\n",
    "print(np.max(Array1))     #Step4: Find the maximum value of the array\n",
    "print(np.argmax(Array1))     ##Step4: Find the postition of the maximum value \n",
    "print(np.min(Array1))     #Step5: Find the minimum value of the array\n",
    "print(np.argmin(Array1))     ##Step5: Find the postition of the minimum value \n",
    "\n",
    "Array2 = np.array([-12,0,12,24,36,48,60,72,84])     #Step6: Define Array2\n",
    "print(Array2)\n",
    "print(Array1+Array2)         #Step7: Find the summation of these two arrays\n"
   ]
  },
  {
   "cell_type": "markdown",
   "metadata": {},
   "source": [
    "___\n",
    "### Example- n-Dimensional Array Arithmetic\n",
    "- Define a 2x2 array with [5,10,15,20]\n",
    "- Define another 2x2 array with [3,6,9,12]\n",
    "- Find the summation and subtraction of these two arrays\n",
    "- Find the minimum number in the multiplication of these two arrays\n",
    "- Find the position of the maximum in the multiplication of these two arrays\n",
    "- Find the mean of the multiplication of these two arrays\n",
    "- Find the mean of the first row of the multiplication of these two arrays\n"
   ]
  },
  {
   "cell_type": "code",
   "execution_count": null,
   "metadata": {
    "collapsed": false,
    "jupyter": {
     "outputs_hidden": false
    }
   },
   "outputs": [],
   "source": [
    "import numpy as np         #import numpy\n",
    "Array1 = np.array([[5,10],[15,20]])     #Step1: Define Array1\n",
    "print(Array1)\n",
    "Array2 = np.array([[3,6],[9,12]])     #Step2: Define Array2\n",
    "print(Array2)\n",
    "\n",
    "print(Array1+Array2)     #Step3: Find the summation\n",
    "\n",
    "MultArray = Array1@Array2         #Step4: To perform a typical matrix multiplication (or matrix product)\n",
    "MultArray1 = Array1.dot(Array2)         #Step4: Another way To perform a  matrix multiplication\n",
    "\n",
    "print(MultArray)\n",
    "print(MultArray1)\n",
    "\n",
    "print(np.mean(MultArray))     ##Step6: Find the mean of the multiplication of these two arrays \n",
    "print(np.mean(MultArray[0,:]))     ##Step7: Find the mean of the first row of the multiplication of these two arrays \n"
   ]
  },
  {
   "cell_type": "markdown",
   "metadata": {},
   "source": [
    "___\n",
    "### <font color=purple>Arrays Comparison</font>\n",
    "\n",
    "\n",
    "Comparing two NumPy arrays determines whether they are equivalent by checking if every element at each corresponding index are the same.\n",
    "\n",
    "![](https://www.w3resource.com/w3r_images/python-numpy-image-exercise-28.png)"
   ]
  },
  {
   "cell_type": "markdown",
   "metadata": {},
   "source": [
    "___\n",
    "### Example- 1D Array Comparison\n",
    "- Define a 1D array with [1.0,2.5,3.4,7,7]\n",
    "- Define another 1D array with [5.0/5.0,5.0/2,6.8/2,21/3,14/2]\n",
    "- Compare and see if the two arrays are equal\n",
    "- Define another 1D array with [6,1.4,2.2,7.5,7]\n",
    "- Compare and see if the first array is greater than or equal to the third array"
   ]
  },
  {
   "cell_type": "code",
   "execution_count": null,
   "metadata": {
    "collapsed": false,
    "jupyter": {
     "outputs_hidden": false
    }
   },
   "outputs": [],
   "source": [
    "import numpy as np         #import numpy\n",
    "Array1 = np.array([1.0,2.5,3.4,7,7])     #Step1: Define Array1\n",
    "print(Array1)\n",
    "Array2 = np.array([5.0/5.0,5.0/2,6.8/2,21/3,14/2])     #Step2: Define Array1\n",
    "print(Array2)\n",
    "print(np.equal(Array1, Array2))             #Step3: Compare and see if the two arrays are equal\n",
    "Array3 = np.array([6,1.4,2.2,7.5,7])     #Step4: Define Array3\n",
    "print(Array3)\n",
    "print(np.greater_equal(Array1, Array3))             #Step3: Compare and see if the two arrays are equal\n"
   ]
  },
  {
   "cell_type": "markdown",
   "metadata": {},
   "source": [
    "___\n",
    "### <font color=purple>Arrays Manipulation</font>\n",
    "\n",
    "numpy.copy() allows us to create a copy of an array. This is particularly useful when we need to manipulate an array while keeping an original copy in memory.\n",
    "The numpy.delete() function returns a new array with sub-arrays along an axis deleted. Let's have a look at the examples.\n",
    "\n",
    "\n",
    "![](https://codetorial.net/numpy/_images/numpy_delete_01.png)\n",
    "![](https://www.w3resource.com/w3r_images/numpy-manipulation-delete-function-image-1.png)"
   ]
  },
  {
   "cell_type": "markdown",
   "metadata": {},
   "source": [
    "___\n",
    "### Example- Copying and Deleting Arrays and Elements\n",
    "- Define a 1D array, named \"x\" with [1,2,3]\n",
    "- Define \"y\" so that \"y=x\"\n",
    "- Define \"z\" as a copy of \"x\"\n",
    "- Discuss the difference between y and z\n",
    "- Delete the second element of x"
   ]
  },
  {
   "cell_type": "code",
   "execution_count": null,
   "metadata": {
    "collapsed": false,
    "jupyter": {
     "outputs_hidden": false
    }
   },
   "outputs": [],
   "source": [
    "import numpy as np         #import numpy\n",
    "x = np.array([1,2,3])     #Step1: Define x\n",
    "print(x)\n",
    "y = x                     #Step2: Define y as y=x\n",
    "print(y)\n",
    "z = np.copy(x)            #Step3: Define z as a copy of x\n",
    "print(z)\n",
    "# For Step4: They look similar but check this out:\n",
    "x[1] = 8                  # If we change x ...\n",
    "print(x)\n",
    "print(y)\n",
    "print(z)\n",
    "# By modifying x, y changes but z remains as a copy of the initial version of x.\n",
    "x = np.delete(x, 1)      #Step5: Delete the second element of x\n",
    "print(x)"
   ]
  },
  {
   "cell_type": "markdown",
   "metadata": {},
   "source": [
    "___\n",
    "### <font color=purple>Sorting Arrays</font>\n",
    "\n",
    "Sorting means putting elements in an ordered sequence. Ordered sequence is any sequence that has an order corresponding to elements, like numeric or alphabetical, ascending or descending. If you use the sort() method on a 2-D array, both arrays will be sorted.\n",
    "\n",
    "![](https://www.w3resource.com/w3r_images/numpy-sorting-and-searching-image-exercise-1.svg)"
   ]
  },
  {
   "cell_type": "markdown",
   "metadata": {},
   "source": [
    "___\n",
    "### Example- Sorting 1D Arrays\n",
    "__Define a 1D array as ['FIFA 2020','Red Dead Redemption','Fallout','GTA','NBA 2018','Need For Speed'] and print it out. Then, sort the array alphabetically.__\n"
   ]
  },
  {
   "cell_type": "code",
   "execution_count": null,
   "metadata": {
    "collapsed": false,
    "jupyter": {
     "outputs_hidden": false
    }
   },
   "outputs": [],
   "source": [
    "import numpy as np         #import numpy\n",
    "games = np.array(['FIFA 2020','Red Dead Redemption','Fallout','GTA','NBA 2018','Need For Speed'])\n",
    "print(games)\n",
    "print(np.sort(games))"
   ]
  },
  {
   "cell_type": "markdown",
   "metadata": {},
   "source": [
    "___\n",
    "### Example- Sorting n-Dimensional Arrays\n",
    "__Define a 3x3 array with 17,-6,2,86,-12,0,0,23,12 and print it out. Then, sort the array.__"
   ]
  },
  {
   "cell_type": "code",
   "execution_count": null,
   "metadata": {
    "collapsed": false,
    "jupyter": {
     "outputs_hidden": false
    }
   },
   "outputs": [],
   "source": [
    "import numpy as np         #import numpy\n",
    "a = np.array([[17,-6,2],[86,-12,0],[0,23,12]])\n",
    "print(a)\n",
    "print (\"Along columns : \\n\", np.sort(a,axis = 0) ) #This will be sorting in each column\n",
    "print (\"Along rows : \\n\", np.sort(a,axis = 1) ) #This will be sorting in each row\n",
    "print (\"Sorting by default : \\n\", np.sort(a) )          #Same as above\n",
    "print (\"Along None Axis : \\n\", np.sort(a,axis = None) ) #This will be sorted like a 1D array\n"
   ]
  },
  {
   "cell_type": "markdown",
   "metadata": {},
   "source": [
    "___\n",
    "### <font color=purple>Partitioning (Slice) Arrays</font>\n",
    "\n",
    "\n",
    "Slicing in python means taking elements from one given index to another given index.\n",
    "\n",
    "We can do slicing like this: [start:end].\n",
    "\n",
    "We can also define the step, like this: [start:end:step].\n",
    "\n",
    "If we don't pass start its considered 0\n",
    "\n",
    "If we don't pass end its considered length of array in that dimension\n",
    "\n",
    "If we don't pass step its considered 1\n",
    "\n",
    "![](https://media.geeksforgeeks.org/wp-content/uploads/Numpy1.jpg)"
   ]
  },
  {
   "cell_type": "markdown",
   "metadata": {},
   "source": [
    "___\n",
    "### Example- Slicing 1D Arrays\n",
    "__Define a 1D array as [1,3,5,7,9], slice out the [3,5,7] and print it out.__"
   ]
  },
  {
   "cell_type": "code",
   "execution_count": null,
   "metadata": {
    "collapsed": false,
    "jupyter": {
     "outputs_hidden": false
    }
   },
   "outputs": [],
   "source": [
    "import numpy as np         #import numpy\n",
    "a = np.array([1,3,5,7,9])     #Define the array\n",
    "print(a)\n",
    "aslice = a[1:4]             #slice the [3,5,7]\n",
    "print(aslice)               #print it out\n"
   ]
  },
  {
   "cell_type": "markdown",
   "metadata": {},
   "source": [
    "___\n",
    "### Example- Slicing n-Dimensional Arrays\n",
    "__Define a 5x5 array with \"Superman, Batman, Jim Hammond, Captain America, Green Arrow, Aquaman, Wonder Woman, Martian Manhunter, Barry Allen, Hal Jordan, Hawkman, Ray Palmer, Spider Man, Thor, Hank Pym, Solar, Iron Man, Dr. Strange, Daredevil, Ted Kord, Captian Marvel, Black Panther, Wolverine, Booster Gold, Spawn \" and print it out. Then:__\n",
    "- Slice the first column and print it out\n",
    "- Slice the third row and print it out\n",
    "- Slice 'Wolverine' and print it out\n",
    "- Slice a 3x3 array with 'Wonder Woman, Ray Palmer, Iron Man, Martian Manhunter, Spider Man, Dr. Strange, Barry Allen, Thor, Daredevil'"
   ]
  },
  {
   "cell_type": "code",
   "execution_count": null,
   "metadata": {
    "collapsed": false,
    "jupyter": {
     "outputs_hidden": false
    }
   },
   "outputs": [],
   "source": [
    "import numpy as np         #import numpy\n",
    "Superheroes = np.array([['Superman', 'Batman', 'Jim Hammond', 'Captain America', 'Green Arrow'],\n",
    "               ['Aquaman', 'Wonder Woman', 'Martian Manhunter', 'Barry Allen', 'Hal Jordan'],\n",
    "               ['Hawkman', 'Ray Palmer', 'Spider Man', 'Thor', 'Hank Pym'],\n",
    "               ['Solar', 'Iron Man', 'Dr. Strange', 'Daredevil', 'Ted Kord'],\n",
    "               ['Captian Marvel', 'Black Panther', 'Wolverine', 'Booster Gold', 'Spawn']])\n",
    "print(Superheroes) #Step1\n",
    "print(Superheroes[:,0])\n",
    "print(Superheroes[2,:])\n",
    "print(Superheroes[4,2])\n",
    "print(Superheroes[1:4,1:4])"
   ]
  },
  {
   "cell_type": "markdown",
   "metadata": {},
   "source": [
    "### Trigonometric Functions\n",
    "\n",
    "NumPy provides several universal functions (ufuncs) for trigonometric operations:\n",
    "\n",
    "- `sin()`\n",
    "- `cos()`\n",
    "- `tan()`\n",
    "\n",
    "These functions take values in radians and return the corresponding sine, cosine, and tangent values.\n",
    "\n",
    "#### Finding Angles\n",
    "\n",
    "To find angles from sine, cosine, or tangent values, you can use the following inverse functions:\n",
    "\n",
    "- `arcsin()` for the inverse sine\n",
    "- `arccos()` for the inverse cosine\n",
    "- `arctan()` for the inverse tangent\n",
    "\n",
    "\n",
    "#### Convert Degrees to Radians\n",
    "\n",
    "By default, all trigonometric functions in NumPy use radians. To convert degrees to radians and vice versa, you can use NumPy functions:\n",
    "\n",
    "1. To convert degrees to radians, you use the following formula:\n",
    "\\begin{align*}\n",
    "\\text{radians} = \\text{degrees} \\times \\left(\\frac{\\pi}{180}\\right)\n",
    "\\end{align*}\n",
    "- Using numpy use **`np.deg2rad(degrees)`** to convert degrees to radians\n",
    "2. To convert radians to degrees, you use the following formula:\n",
    "\\begin{align*}\n",
    "\\text{degrees} = \\text{radians} \\times \\left(\\frac{180}{\\pi}\\right)\n",
    "\\end{align*}\n",
    "- Using numpy use **`np.rad2deg(radians)`** to convert radians to degrees\n",
    "\n",
    "\n",
    "#### Hypotenuse\n",
    "\n",
    "To find the hypotenuse of a right triangle using the Pythagorean theorem, you can use the `hypot()` function:\n",
    "\n",
    "- `np.hypot(base, perpendicular)`\n",
    "\n",
    "This function takes the base and perpendicular values and returns the hypotenuse based on the Pythagorean theorem.\n"
   ]
  },
  {
   "cell_type": "code",
   "execution_count": 113,
   "metadata": {},
   "outputs": [
    {
     "name": "stdout",
     "output_type": "stream",
     "text": [
      "[1.         0.8660254  0.70710678 0.58778525]\n"
     ]
    }
   ],
   "source": [
    "# Find sine values for all of the values in arr:\n",
    "import numpy as np\n",
    "arr = np.array([np.pi/2, np.pi/3, np.pi/4, np.pi/5])\n",
    "x = np.sin(arr)\n",
    "print(x)"
   ]
  },
  {
   "cell_type": "code",
   "execution_count": 119,
   "metadata": {},
   "outputs": [
    {
     "name": "stdout",
     "output_type": "stream",
     "text": [
      "[1.57079633 3.14159265 4.71238898 6.28318531]\n"
     ]
    }
   ],
   "source": [
    "#Convert all of the values in following array arr to radians:\n",
    "import numpy as np\n",
    "arr = np.array([90, 180, 270, 360])\n",
    "x = np.deg2rad(arr)\n",
    "print(x)"
   ]
  },
  {
   "cell_type": "code",
   "execution_count": 117,
   "metadata": {},
   "outputs": [
    {
     "name": "stdout",
     "output_type": "stream",
     "text": [
      "[ 1.57079633 -1.57079633  0.10016742]\n"
     ]
    }
   ],
   "source": [
    "#Find the angle for all of the sine values in the array\n",
    "import numpy as np\n",
    "arr = np.array([1, -1, 0.1])\n",
    "x = np.arcsin(arr)\n",
    "print(x)"
   ]
  },
  {
   "cell_type": "markdown",
   "metadata": {},
   "source": [
    "### Exercise 10.1  (40 marks)\n",
    "1. List 5 ways we can differenciates between Python lists and Numpy arrays?\n"
   ]
  },
  {
   "cell_type": "code",
   "execution_count": null,
   "metadata": {},
   "outputs": [],
   "source": []
  },
  {
   "cell_type": "markdown",
   "metadata": {},
   "source": [
    "2. Modify the given Array by slicing \n",
    "\n",
    ">                    [[1,   2,  3,  4,  5],\n",
    ">                     [6,   7,  8,  9, 10],\n",
    ">                     [11, 12, 13, 14, 15],\n",
    ">                     [16, 17, 18, 19, 20]] \n",
    "  \n",
    "  \n",
    " to make it look like\n",
    ">                         [[ 7  8  9] \n",
    ">                          [12 13 14]]\n",
    "\n"
   ]
  },
  {
   "cell_type": "code",
   "execution_count": null,
   "metadata": {},
   "outputs": [],
   "source": []
  },
  {
   "cell_type": "markdown",
   "metadata": {},
   "source": [
    "3. In NumPy, what does the SHAPE of an array mean and how do we check the shape of this array. <br>\n",
    "```plaintext\n",
    "          ⎡ 0  7  1  3 ⎤\n",
    "x =       ⎢ 3  7  8  1 ⎥\n",
    "          ⎢ 1  0  0  3 ⎥\n",
    "          ⎣ 0  3  7  1 ⎦\n"
   ]
  },
  {
   "cell_type": "code",
   "execution_count": null,
   "metadata": {},
   "outputs": [],
   "source": []
  },
  {
   "cell_type": "markdown",
   "metadata": {},
   "source": [
    "4. What is a correct syntax to print the number 8 from the array below:<br>\n",
    "arr = np.array([[1,2,3,4,5], [6,7,8,9,10]])"
   ]
  },
  {
   "cell_type": "code",
   "execution_count": null,
   "metadata": {},
   "outputs": [],
   "source": []
  },
  {
   "cell_type": "markdown",
   "metadata": {},
   "source": [
    "5. What is the correct formula to convert 50 degrees into radians and write the numpy code?\n",
    "    1. `np.pi / 180 * 50`\n",
    "    2. `np.pi / 50 / 180`\n",
    "    3. `180 * np.pi / 50`\n"
   ]
  },
  {
   "cell_type": "code",
   "execution_count": null,
   "metadata": {},
   "outputs": [],
   "source": []
  },
  {
   "cell_type": "markdown",
   "metadata": {},
   "source": [
    "6. Create two numpy 2d arrays. The first 2d array should have the size 3by4 and second should have the size 4by5.\n",
    "Use random library to generate the numbers (it should be an integer 2d array where the range for the integers is [1,10])"
   ]
  },
  {
   "cell_type": "code",
   "execution_count": null,
   "metadata": {},
   "outputs": [],
   "source": []
  },
  {
   "cell_type": "markdown",
   "metadata": {},
   "source": [
    "7. You are working on an engineering project where you need to analyze a set of sensor data in real-time. The sensor data is provided as a NumPy array sensor_data of shape (m,n), where m is the number of sensors and n is the number of readings.\n",
    "\n",
    "    You need to perform the following tasks on the sensor data using NumPy:\n",
    "    \n",
    "    Normalize the data to have zero mean and unit variance across all sensors.\n",
    "    Remove any outliers in the data using the interquartile range (IQR) method.\n",
    "    Compute the correlation matrix of the normalized and cleaned data.\n",
    "    Write a NumPy code snippet to perform the above tasks on the sensor_data array. Your code should return the correlation matrix as a NumPy array of shape (m,m). You can assume that the input sensor_data array contains only numerical data.<br>\n",
    "    - Use sensor_data = np.random.randint(X,Y,(4,100)).\n",
    "    - X is the first two letters of your Rnumber.\n",
    "    - Y is the last four letters of your Rnumber.<br>\n",
    "    Can't start with zero, if zero replace with 1"
   ]
  },
  {
   "cell_type": "code",
   "execution_count": 28,
   "metadata": {},
   "outputs": [],
   "source": [
    "import numpy as np\n",
    "sensor_data = np.random.randint(11,125,(4,100))\n",
    "# Step 1: Normalize the data\n",
    "mean = np.mean(sensor_data, axis=1)\n",
    "std = np.std(sensor_data, axis=1)\n",
    "sensor_data_norm = (sensor_data - mean.reshape(-1, 1)) / std.reshape(-1, 1)\n",
    "\n",
    "# Step 2: Remove outliers\n",
    "q1 = np.percentile(sensor_data_norm, 25, axis=1)\n",
    "q3 = np.percentile(sensor_data_norm, 75, axis=1)\n",
    "iqr = q3 - q1\n",
    "lower = q1 - 1.5 * iqr\n",
    "upper = q3 + 1.5 * iqr\n",
    "mask = np.logical_and(sensor_data_norm > lower.reshape(-1, 1), sensor_data_norm < upper.reshape(-1, 1))\n",
    "sensor_data_clean = np.where(mask, sensor_data_norm, np.nan)\n",
    "\n",
    "# Step 3: Compute the correlation matrix\n",
    "correlation_matrix = np.corrcoef(sensor_data_clean, rowvar=False)"
   ]
  },
  {
   "cell_type": "markdown",
   "metadata": {},
   "source": [
    "8. You are working on an engineering project where you need to analyze a set of temperature readings in real-time. The temperature readings are provided as a NumPy array temp_data of shape (m,n), where m is the number of sensors and n is the number of readings.\n",
    "\n",
    "    You need to perform the following tasks on the temperature data using NumPy:\n",
    "    \n",
    "    Convert the temperature data from Celsius to Fahrenheit.\n",
    "    Identify the sensor that has the highest average temperature across all readings.\n",
    "    Compute the moving average of the temperature readings for each sensor using a window of size k, where k is an odd integer.\n",
    "    Write a NumPy code snippet to perform the above tasks on the temp_data array. Your code should return the moving average temperature data as a NumPy array of the same shape as the input array. You can assume that the input temp_data array contains only numerical data.\n"
   ]
  },
  {
   "cell_type": "code",
   "execution_count": 9,
   "metadata": {},
   "outputs": [
    {
     "name": "stdout",
     "output_type": "stream",
     "text": [
      "[[50.71697878 42.80651693 25.7971477  15.88280172  9.12663164 26.09920621\n",
      "  29.21383449 35.33479075 36.34459503 49.04578765]\n",
      " [45.73364542 53.27817115 43.03546702 43.24799944 39.64937609 46.20159072\n",
      "  35.70115773 35.36252355 41.10384421 55.6826321 ]]\n"
     ]
    }
   ],
   "source": [
    "import numpy as np\n",
    "temp_data = np.random.normal(2,10,(2,10))\n",
    "# Step 1: Convert the temperature data from Celsius to Fahrenheit\n",
    "temp_data_F = temp_data * 1.8 + 32\n",
    "\n",
    "# Step 2: Identify the sensor that has the highest average temperature\n",
    "avg_temp = np.mean(temp_data_F, axis=1)\n",
    "sensor_idx = np.argmax(avg_temp)\n",
    "\n",
    "# Step 3: Compute the moving average of the temperature readings for each sensor\n",
    "k = 3  # window size\n",
    "pad_width = (k // 2, k // 2)\n",
    "temp_data_F_padded = np.pad(temp_data_F, [(0,0), pad_width], mode='edge')\n",
    "kernel = np.ones(k) / k\n",
    "temp_data_F_moving_avg = np.apply_along_axis(lambda x: np.convolve(x, kernel, mode='valid'), axis=1, arr=temp_data_F_padded)\n",
    "print(temp_data_F_moving_avg)"
   ]
  },
  {
   "cell_type": "code",
   "execution_count": 7,
   "metadata": {},
   "outputs": [
    {
     "data": {
      "text/plain": [
       "array([[25.68360657, 27.01696587, 35.2319139 , 31.59171132, 37.41951439,\n",
       "        12.4909819 , 20.35002944, 17.39766958, 46.50460098, 51.76228154],\n",
       "       [18.87224595, 28.1437438 , 37.53401956, 39.40835065, 46.60075082,\n",
       "        47.6093854 , 41.40547601, 29.69351238, 23.61639808, 24.87415727]])"
      ]
     },
     "execution_count": 7,
     "metadata": {},
     "output_type": "execute_result"
    }
   ],
   "source": [
    "temp_data_F_moving_avg"
   ]
  },
  {
   "cell_type": "markdown",
   "metadata": {},
   "source": [
    "## Lab Exercise 10.2 (20 marks)\n",
    "Ensure you entered your full name and R Number in the top cell<br>\n",
    "Convert to PDF and submit both PDF and IPYNB"
   ]
  },
  {
   "cell_type": "markdown",
   "metadata": {},
   "source": [
    "___\n",
    "## <font color=orange>This is a Numpy Cheat Sheet!</font>\n",
    "\n",
    "![](https://blog.finxter.com/wp-content/uploads/2019/10/grafik-1-1024x725.png)\n",
    "\n",
    "### Check out this link for more: <br>\n",
    "https://blog.finxter.com/collection-10-best-numpy-cheat-sheets-every-python-coder-must-own/"
   ]
  },
  {
   "cell_type": "markdown",
   "metadata": {},
   "source": [
    "___\n",
    "![](https://media2.giphy.com/media/5nj4ZZWl6QwneEaBX4/source.gif) <br>\n",
    "\n",
    "*Here are some of the resources used for creating this notebook:* \n",
    "- Johnson, J. (2020). Python Numpy Tutorial (with Jupyter and Colab). Retrieved September 15, 2020, from https://cs231n.github.io/python-numpy-tutorial/ <br>\n",
    "- Willems, K. (2019). (Tutorial) Python NUMPY Array TUTORIAL. Retrieved September 15, 2020, from https://www.datacamp.com/community/tutorials/python-numpy-tutorial?utm_source=adwords_ppc <br>\n",
    "- Willems, K. (2017). NumPy Cheat Sheet: Data Analysis in Python. Retrieved September 15, 2020, from https://www.datacamp.com/community/blog/python-numpy-cheat-sheet <br>\n",
    "- W3resource. (2020). NumPy: Compare two given arrays. Retrieved September 15, 2020, from https://www.w3resource.com/python-exercises/numpy/python-numpy-exercise-28.php <br>\n",
    "\n",
    "\n",
    "\n",
    "*Here are some great reads on this topic:* \n",
    "- __\"Python NumPy Tutorial\"__ available at *https://www.geeksforgeeks.org/python-numpy-tutorial/<br>\n",
    "- __\"What Is NumPy?\"__ a collection of blogs, available at *https://realpython.com/tutorials/numpy/ <br>\n",
    "- __\"Look Ma, No For-Loops: Array Programming With NumPy\"__ by __Brad Solomon__ available at *https://realpython.com/numpy-array-programming/ <br>\n",
    "- __\"The Ultimate Beginner’s Guide to NumPy\"__ by __Anne Bonner__ available at *https://towardsdatascience.com/the-ultimate-beginners-guide-to-numpy-f5a2f99aef54 <br>\n",
    "\n",
    "\n",
    "*Here are some great videos on these topics:* \n",
    "- __\"Learn NUMPY in 5 minutes - BEST Python Library!\"__ by __Python Programmer__ available at *https://www.youtube.com/watch?v=xECXZ3tyONo <br>\n",
    "- __\"Python NumPy Tutorial for Beginners\"__ by __freeCodeCamp.org__ available at *https://www.youtube.com/watch?v=QUT1VHiLmmI <br>\n",
    "- __\"Complete Python NumPy Tutorial (Creating Arrays, Indexing, Math, Statistics, Reshaping)\"__ by __Keith Galli__ available at *https://www.youtube.com/watch?v=GB9ByFAIAH4 <br>\n",
    "- __\"Python NumPy Tutorial | NumPy Array | Python Tutorial For Beginners | Python Training | Edureka\"__ by __edureka!__ available at *https://www.youtube.com/watch?v=8JfDAm9y_7s <br>"
   ]
  },
  {
   "cell_type": "markdown",
   "metadata": {},
   "source": [
    "![](https://quotefancy.com/media/wallpaper/3840x2160/722175-Pythagoras-Quote-Number-rules-the-universe.jpg)"
   ]
  }
 ],
 "metadata": {
  "kernelspec": {
   "display_name": "Python 3 (ipykernel)",
   "language": "python",
   "name": "python3"
  },
  "language_info": {
   "codemirror_mode": {
    "name": "ipython",
    "version": 3
   },
   "file_extension": ".py",
   "mimetype": "text/x-python",
   "name": "python",
   "nbconvert_exporter": "python",
   "pygments_lexer": "ipython3",
   "version": "3.12.4"
  }
 },
 "nbformat": 4,
 "nbformat_minor": 4
}

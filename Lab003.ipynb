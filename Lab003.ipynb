{
 "cells": [
  {
   "cell_type": "markdown",
   "metadata": {},
   "source": [
    "# <font color=darkblue>Lab 3: Data Structures  </font>\n",
    "\n",
    "**LAST NAME, FIRST NAME**\n",
    "\n",
    "**R00000000**\n",
    "\n",
    "ENGR 1330 Laboratory 3 - In-Lab\n",
    "\n"
   ]
  },
  {
   "cell_type": "code",
   "execution_count": null,
   "metadata": {},
   "outputs": [],
   "source": [
    "# Preamble script block to identify host, user, and kernel\n",
    "import sys\n",
    "! hostname\n",
    "! whoami\n",
    "print(sys.executable)\n",
    "print(sys.version)\n",
    "print(sys.version_info)"
   ]
  },
  {
   "cell_type": "markdown",
   "metadata": {},
   "source": [
    "## <font color=purple>Data Structures: List </font>\n",
    "List is one of 4 built-in data types in Python used to store collections of data, the other 3 are Set, Tuple, and Dictionary, all with different qualities and usage.\n",
    "A list is a collection of data that are somehow related. \n",
    "It is a convenient way to refer to a collection of similar things by a single name, and using an index (like a subscript in math)\n",
    "to identify a particular item.\n",
    "\n",
    "In engineering and data science we use lists a lot - we often call them vectors, arrays, matrices and such, but they are ultimately just lists.\n",
    "\n",
    "To declare a list you can write the list name and assign it values. \n",
    "The square brackets are used to identify that the variable is a list. \n",
    "Like:\n",
    "\n",
    "    MyList = [7,11,5,9,13,66,99,223]\n",
    "\n",
    "One can also declare a null list and use the `append()` method to fill it as needed.\n",
    "\n",
    "    MyOtherList = [ ]\n",
    "    \n",
    "Python indices start at ZERO. \n",
    "Alot of other lnguages start at ONE. \n",
    "Its just the convention. \n",
    "\n",
    "The first element in a list has an index of 0, the second an index of 1, and so on.\n",
    "We access the contents of a list by referring to its name and index. \n",
    "For example \n",
    "\n",
    "    MyList[3] has a value of the number 9."
   ]
  },
  {
   "cell_type": "code",
   "execution_count": null,
   "metadata": {},
   "outputs": [],
   "source": [
    "MyOtherList = [] #Create an empty list\n",
    "print(MyOtherList)\n",
    "MyOtherList.append(765) #Add one item to the list\n",
    "print(MyOtherList)\n",
    "\n",
    "MyList = [7,11,5,9,13,66,99,223] #Define a list \n",
    "print(MyList)\n",
    "\n",
    "sublist = MyList[3:6] #slice a sublist\n",
    "print(\"sublist is: \", sublist)\n",
    "\n",
    "mysum = sum(sublist) #sum the numbers in the sublist\n",
    "print(\"Sum: \", mysum)\n",
    "\n",
    "mylength = len(sublist) #get the length of the sublist\n",
    "print(\"Length: \", mylength)"
   ]
  },
  {
   "cell_type": "markdown",
   "metadata": {},
   "source": [
    "---\n",
    "## Exercise 3.1 (30 marks)\n"
   ]
  },
  {
   "cell_type": "markdown",
   "metadata": {},
   "source": [
    "1. What will be the result of the following syntax:<br>\n",
    "mylist = ['apple', 'banana', 'cherry']<br>\n",
    "mylist[0] = 'kiwi'<br>\n",
    "print(mylist[1])<br>"
   ]
  },
  {
   "cell_type": "code",
   "execution_count": null,
   "metadata": {},
   "outputs": [],
   "source": []
  },
  {
   "cell_type": "markdown",
   "metadata": {},
   "source": [
    "2. True or False. <br>\n",
    "List items cannot be removed after the list has been created.<br>\n"
   ]
  },
  {
   "cell_type": "code",
   "execution_count": null,
   "metadata": {},
   "outputs": [],
   "source": []
  },
  {
   "cell_type": "markdown",
   "metadata": {},
   "source": [
    "3. What will be the result of the following syntax:<br>\n",
    "mylist = ['apple', 'banana', 'cherry']<br>\n",
    "print(mylist[-1])<br>"
   ]
  },
  {
   "cell_type": "code",
   "execution_count": null,
   "metadata": {},
   "outputs": [],
   "source": []
  },
  {
   "cell_type": "markdown",
   "metadata": {},
   "source": [
    "4. What will be the result of the following syntax: <br>\n",
    "mylist = ['apple', 'banana', 'cherry'] <br>\n",
    "mylist.insert(0, 'orange') <br>\n",
    "print(mylist[1]) "
   ]
  },
  {
   "cell_type": "code",
   "execution_count": 34,
   "metadata": {},
   "outputs": [
    {
     "name": "stdout",
     "output_type": "stream",
     "text": [
      "\n"
     ]
    }
   ],
   "source": []
  },
  {
   "cell_type": "markdown",
   "metadata": {},
   "source": [
    "5. What will be the result of the following syntax: <br>\n",
    "   mylist = ['apple', 'banana', 'cherry', 'orange', 'kiwi'] <br>\n",
    "print(mylist[1:4])"
   ]
  },
  {
   "cell_type": "code",
   "execution_count": null,
   "metadata": {},
   "outputs": [],
   "source": []
  },
  {
   "cell_type": "markdown",
   "metadata": {},
   "source": [
    "6. What is a correct syntax for adding elements from list2 into list1? <br>\n",
    "list1.extend(list2) <br>\n",
    "list1.join(list2) <br>\n",
    "list1.push(list2) <br>"
   ]
  },
  {
   "cell_type": "code",
   "execution_count": null,
   "metadata": {},
   "outputs": [],
   "source": []
  },
  {
   "cell_type": "markdown",
   "metadata": {},
   "source": [
    "___"
   ]
  },
  {
   "cell_type": "markdown",
   "metadata": {},
   "source": [
    "## <font color=purple>Data Structures: Special List | Set</font>\n",
    "Sets are used to store multiple items in a single variable. <br>\n",
    "A set is a collection which is unordered, unchangeable*, and unindexed.  <br>\n",
    "    myset = {\"apple\", \"banana\", \"cherry\"}"
   ]
  },
  {
   "cell_type": "markdown",
   "metadata": {},
   "source": [
    "---\n",
    "## Exercise 3.2 (10 marks)"
   ]
  },
  {
   "cell_type": "markdown",
   "metadata": {},
   "source": [
    "1. True or False. You can access set items by referring to the index. <br>\n",
    "True <br>\n",
    "False <br>"
   ]
  },
  {
   "cell_type": "code",
   "execution_count": null,
   "metadata": {},
   "outputs": [],
   "source": []
  },
  {
   "cell_type": "markdown",
   "metadata": {},
   "source": [
    "2. True or False. <br>\n",
    "A set cannot have two items with the same value. <br>\n",
    "True <br>\n",
    "False"
   ]
  },
  {
   "cell_type": "code",
   "execution_count": null,
   "metadata": {},
   "outputs": [],
   "source": []
  },
  {
   "cell_type": "markdown",
   "metadata": {},
   "source": [
    "---"
   ]
  },
  {
   "cell_type": "markdown",
   "metadata": {},
   "source": [
    "## <font color=purple>Data Structures: Special List | Tuple</font>\n",
    "\n",
    "A tuple is a special kind of list where the values cannot be changed after the list is created. <br>\n",
    "It is useful for list-like things that are static - like days in a week, or months of a year.<br>\n",
    "You declare a tuple like a list, except use round brackets instead of square brackets.<br>\n",
    "\n",
    "    MyTupleName = (\"Jan\",\"Feb\",\"Mar\",\"Apr\",\"May\",\"Jun\",\"Jul\",\"Aug\",\"Sep\",\"Oct\",\"Nov\",\"Dec\")"
   ]
  },
  {
   "cell_type": "markdown",
   "metadata": {},
   "source": [
    "---\n",
    "## Exercise 3.3 (15 marks)"
   ]
  },
  {
   "cell_type": "markdown",
   "metadata": {},
   "source": [
    "1. Use the correct syntax to print the number of items in the fruits tuple.<br>\n",
    "fruits = (\"apple\", \"banana\", \"cherry\")"
   ]
  },
  {
   "cell_type": "code",
   "execution_count": null,
   "metadata": {},
   "outputs": [],
   "source": []
  },
  {
   "cell_type": "markdown",
   "metadata": {},
   "source": [
    "2. You cannot change the items of a tuple, but there are workarounds. Which of the following suggestion will work? <br>\n",
    "Convert tuple into a list, change item, convert back into a tuple. <br>\n",
    "Convert tuple into a set, change item, convert back into a tuple. <br>\n",
    "Convert tuple into a dictionary, change item, convert back into a tuple."
   ]
  },
  {
   "cell_type": "code",
   "execution_count": null,
   "metadata": {},
   "outputs": [],
   "source": []
  },
  {
   "cell_type": "markdown",
   "metadata": {},
   "source": [
    "3. Which is a correct syntax to delete a tuple? <br>\n",
    "delete mytuple <br>\n",
    "mytuple.delete() <br>\n",
    "del mytuple"
   ]
  },
  {
   "cell_type": "code",
   "execution_count": null,
   "metadata": {},
   "outputs": [],
   "source": []
  },
  {
   "cell_type": "markdown",
   "metadata": {},
   "source": [
    "___"
   ]
  },
  {
   "cell_type": "markdown",
   "metadata": {},
   "source": [
    "\n",
    "    \n",
    "## <font color=purple>Data Structures: Special List | Dictionary</font>\n",
    "\n",
    "A dictionary is a special kind of list where the items are related data PAIRS. \n",
    "The second item could itself be a list, so a dictionary would be a meaningful way to build a database in Python.\n",
    "\n",
    "To declare a dictionary using `curly` brackets\n",
    "\n",
    "    MyPetsNamesAndMass = { \"Dusty\":7.8 , \"Aspen\":6.3, \"Merrimee\":0.03}\n",
    "\n",
    "To declare a dictionary using the `dict()` method\n",
    "\n",
    "    MyPetsNamesAndMassToo = dict(Dusty = 7.8 , Aspen = 6.3, Merrimee = 0.03)\n",
    "    \n",
    "___\n",
    "Some examples follow:"
   ]
  },
  {
   "cell_type": "code",
   "execution_count": null,
   "metadata": {},
   "outputs": [],
   "source": [
    "MyTupleName = (\"Jan\",\"Feb\",\"Mar\",\"Apr\",\"May\",\"Jun\",\"Jul\",\"Aug\",\"Sep\",\"Oct\",\"Nov\",\"Dec\")\n",
    "print(MyTupleName)"
   ]
  },
  {
   "cell_type": "code",
   "execution_count": null,
   "metadata": {},
   "outputs": [],
   "source": [
    "MyPetsNamesAndMass = { \"Dusty\":7.8 , \"Aspen\":6.3, \"Merrimee\":0.03}\n",
    "print(MyPetsNamesAndMass)\n",
    "MyPetsNamesAndMassToo = dict(Dusty = 7.8 , Aspen = 6.3, Merrimee = 0.04)\n",
    "print(MyPetsNamesAndMassToo)"
   ]
  },
  {
   "cell_type": "code",
   "execution_count": null,
   "metadata": {},
   "outputs": [],
   "source": [
    "# Tuples\n",
    "MyTupleName = (\"Jan\",\"Feb\",\"Mar\",\"Apr\",\"May\",\"Jun\",\"Jul\",\"Aug\",\"Sep\",\"Oct\",\"Nov\",\"Dec\")\n",
    "# Access a Tuple\n",
    "print (\"5th element of the tuple:\", MyTupleName[4])\n",
    "# Dictionary\n",
    "MyPetsNamesAndMass = { \"Dusty\":7.8 , \"Aspen\":6.3, \"Merrimee\":0.03}\n",
    "# Access the Dictionary\n",
    "print (\"Aspen's mass = \", MyPetsNamesAndMass[\"Aspen\"])\n",
    "# Change a value in a dictionary\n",
    "print (\"Merrimee's mass\" , MyPetsNamesAndMass[\"Merrimee\"])\n",
    "MyPetsNamesAndMass[\"Merrimee\"] = 0.01\n",
    "print (\"Merrimee's mass\" , MyPetsNamesAndMass[\"Merrimee\"], \"She lost weight !\")\n",
    "# Alternate dictionary\n",
    "MyPetsNamesAndMassToo = dict(Dusty = 7.8 , Aspen = 6.3, Merrimee = 0.03)\n",
    "print (\"Merrimee's mass\" , MyPetsNamesAndMassToo[\"Merrimee\"])\n",
    "# Attempt to change a Tuple\n",
    "#MyTupleName[3]=(\"Fred\") # Activate this line and see what happens!"
   ]
  },
  {
   "cell_type": "markdown",
   "metadata": {},
   "source": [
    "___\n",
    "### Example: Nested Dictionary\n",
    "\n",
    "From the dictionary below, print \"Pandemic\" and \"Tokyo\":"
   ]
  },
  {
   "cell_type": "code",
   "execution_count": null,
   "metadata": {},
   "outputs": [],
   "source": [
    "FD = {\"Quentin\":\"Tarantino\",\"2020\":[2020,\"COVID\",19,\"Pandemic\"],\"Bond\":[\"James\",\"Gun\",(\"Paris\",\"Tokyo\",\"London\")]} #A nested dictionary\n",
    "print(FD)"
   ]
  },
  {
   "cell_type": "code",
   "execution_count": null,
   "metadata": {},
   "outputs": [],
   "source": [
    "FD['2020'][3]"
   ]
  },
  {
   "cell_type": "code",
   "execution_count": null,
   "metadata": {},
   "outputs": [],
   "source": [
    "FD['Bond'][2][1]"
   ]
  },
  {
   "cell_type": "code",
   "execution_count": null,
   "metadata": {},
   "outputs": [],
   "source": [
    "FD['Bond']\n",
    "FD['Bond'][2]\n",
    "FD['Bond'][2][0]"
   ]
  },
  {
   "cell_type": "markdown",
   "metadata": {},
   "source": [
    "---\n",
    "## Exercise 3.4 (25 marks)"
   ]
  },
  {
   "cell_type": "markdown",
   "metadata": {},
   "source": [
    "1. True or False. <br>\n",
    "Dictionary items cannot be removed after the dictionary has been created.<br>\n",
    "True<br>\n",
    "False"
   ]
  },
  {
   "cell_type": "code",
   "execution_count": null,
   "metadata": {},
   "outputs": [],
   "source": []
  },
  {
   "cell_type": "markdown",
   "metadata": {},
   "source": [
    "2. True or False.<br>\n",
    "A dictionary cannot have two keys with the same name.<br>\n",
    "True<br>\n",
    "False"
   ]
  },
  {
   "cell_type": "code",
   "execution_count": null,
   "metadata": {},
   "outputs": [],
   "source": []
  },
  {
   "cell_type": "markdown",
   "metadata": {},
   "source": [
    "3. x = {'type' : 'fruit', 'name' : 'banana'}<br>\n",
    "What is a correct syntax for changing the type from fruit to berry?<br>\n",
    "x{'type'} = 'berry'<br>\n",
    "x['type'] = 'berry'<br>\n",
    "x.get('type') = 'berry'"
   ]
  },
  {
   "cell_type": "code",
   "execution_count": null,
   "metadata": {},
   "outputs": [],
   "source": []
  },
  {
   "cell_type": "markdown",
   "metadata": {},
   "source": [
    "4. Change the \"year\" value from 1964 to 2020.<br>\n",
    "    car =\t{ <br>\n",
    "      \"brand\": \"Ford\", <br>\n",
    "      \"model\": \"Mustang\", <br>\n",
    "      \"year\": 1964 <br>\n",
    "    }"
   ]
  },
  {
   "cell_type": "code",
   "execution_count": null,
   "metadata": {},
   "outputs": [],
   "source": []
  },
  {
   "cell_type": "markdown",
   "metadata": {},
   "source": [
    "5. Add the key/value pair \"color\" : \"red\" to the car dictionary.<br>\n",
    "car =\t{ <br>\n",
    "  \"brand\": \"Ford\", <br>\n",
    "  \"model\": \"Mustang\", <br>\n",
    "  \"year\": 1964 <br>\n",
    "} <br>"
   ]
  },
  {
   "cell_type": "code",
   "execution_count": null,
   "metadata": {},
   "outputs": [],
   "source": []
  },
  {
   "cell_type": "markdown",
   "metadata": {},
   "source": [
    "---\n",
    "## Lab Exercise 3.5 (20 marks)\n",
    "Ensure you entered your full name and R Number in the top cell<br>\n",
    "Convert to PDF and submit both PDF and IPYNB"
   ]
  },
  {
   "cell_type": "markdown",
   "metadata": {},
   "source": [
    "___\n",
    "## Readings\n",
    "\n",
    "\n",
    "*Here are some great reads on this topic:* \n",
    "- __\"Common Python Data Structures (Guide)\"__ by __Dan Bader__ available at *https://realpython.com/python-data-structures/<br>\n",
    "- __\"Data Structures You Need To Learn In Python\"__ by __Akash__ available at *https://www.edureka.co/blog/data-structures-in-python/ <br>\n",
    "- __\"Data Structures in Python— A Brief Introduction\"__ by __Sowmya Krishnan__ available at *https://towardsdatascience.com/data-structures-in-python-a-brief-introduction-b4135d7a9b7d <br>\n",
    "- __\"Everything you Should Know About Data Structures in Python\"__ by __ANIRUDDHA BHANDARI__ available at *https://www.analyticsvidhya.com/blog/2020/06/data-structures-python/ <br>\n",
    "- __\"Conditional Statements in Python\"__ by __John Sturtz__ available at *https://realpython.com/python-conditional-statements/ <br>\n",
    "- __\"Python If Statement explained with examples\"__ by __CHAITANYA SINGH__ available at *https://beginnersbook.com/2018/01/python-if-statement-example/ <br>\n",
    "\n",
    "*Here are some great videos on these topics:* \n",
    "- __\"Python: Data Structures - Lists, Tuples, Sets & Dictionaries tutorial\"__ by __Joe James__ available at *https://www.youtube.com/watch?v=R-HLU9Fl5ug&t=92s <br>\n",
    "- __\"Python Tutorial for Beginners 5: Dictionaries - Working with Key-Value Pairs\"__ by __Corey Schafer__ available at *https://www.youtube.com/watch?v=daefaLgNkw0 <br>\n",
    "- __\"How to Use If Else Statements in Python (Python Tutorial #2)\"__ by __CS Dojo__ available at *https://www.youtube.com/watch?v=AWek49wXGzI <br>\n",
    "- __\"Python If Statements | Python Tutorial #10\"__ by __Amigoscode__ available at *https://www.youtube.com/watch?v=wKQRmXR3jhc <br>"
   ]
  },
  {
   "cell_type": "markdown",
   "metadata": {},
   "source": []
  }
 ],
 "metadata": {
  "kernelspec": {
   "display_name": "Python 3 (ipykernel)",
   "language": "python",
   "name": "python3"
  },
  "language_info": {
   "codemirror_mode": {
    "name": "ipython",
    "version": 3
   },
   "file_extension": ".py",
   "mimetype": "text/x-python",
   "name": "python",
   "nbconvert_exporter": "python",
   "pygments_lexer": "ipython3",
   "version": "3.11.4"
  }
 },
 "nbformat": 4,
 "nbformat_minor": 4
}

{
 "cells": [
  {
   "cell_type": "markdown",
   "metadata": {},
   "source": [
    "## Assignment-3 (100 points)\n",
    "\n"
   ]
  },
  {
   "cell_type": "markdown",
   "metadata": {},
   "source": [
    "**LAST NAME, FIRST NAME**\n",
    "\n",
    "**R#**"
   ]
  },
  {
   "cell_type": "code",
   "execution_count": null,
   "metadata": {},
   "outputs": [],
   "source": [
    "# RUN this cell and do not modify it\n",
    "import sys\n",
    "! hostname\n",
    "! whoami\n",
    "print(sys.executable)\n",
    "print(sys.version)\n",
    "print(sys.version_info)"
   ]
  },
  {
   "cell_type": "markdown",
   "metadata": {},
   "source": [
    "## Question0 String check\n",
    "(20 points)\n",
    "#### Given a string, write a code to count the number of vowels and consonants in the string using a loop.\n",
    "#### Test your code for these cases:\n",
    "\n",
    "- a) \" Hello, this is a sample string with vowels and consonants.\"\n",
    "- b) 'How many vowels and consonants in this sentence?'\n"
   ]
  },
  {
   "cell_type": "code",
   "execution_count": null,
   "metadata": {},
   "outputs": [],
   "source": []
  },
  {
   "cell_type": "markdown",
   "metadata": {},
   "source": [
    "## Question1: Prime number check<br>\n",
    "\n",
    "(20 points)\n",
    "\n",
    "### Write a code to check whether a given number is prime using a loop.\n",
    "\n",
    "### Test your code for these cases:\n",
    "- a) 1\n",
    "- b) 13\n",
    "- c) 2\n",
    "- d) 44"
   ]
  },
  {
   "cell_type": "code",
   "execution_count": null,
   "metadata": {},
   "outputs": [],
   "source": []
  },
  {
   "cell_type": "markdown",
   "metadata": {},
   "source": [
    "## Question2: List check... <br>\n",
    "(20 points)\n",
    "\n",
    "### Given a list of numbers, write a code to find the largest and smallest numbers in the list using a loop.\n",
    "\n",
    "### Test your code for these cases:\n",
    "- a) [0,1,2,3,4,5]\n",
    "- b) [101, -90, 0, 10000, -2]\n",
    "\n"
   ]
  },
  {
   "cell_type": "code",
   "execution_count": null,
   "metadata": {},
   "outputs": [],
   "source": []
  },
  {
   "cell_type": "markdown",
   "metadata": {},
   "source": [
    "## Question3: Hidden message <br>\n",
    "(20 points)\n",
    "### Write a code that takes a string as input and prints every third character using a loop.\n",
    "\n",
    "(if the string is \"hello\", the output is \"l\", if the string is \"buy milk\", the output is \"yi\")\n",
    "\n",
    "### Test your code for these two cases:\n",
    "- a) \"aahaaeaalaapaa aamaae\"\n",
    "- b) \"  Iha e ao mea babddraaokkkeee\""
   ]
  },
  {
   "cell_type": "code",
   "execution_count": null,
   "metadata": {},
   "outputs": [],
   "source": [
    "\n",
    "\n"
   ]
  },
  {
   "cell_type": "markdown",
   "metadata": {},
   "source": [
    "## Question4: Reverse a list of numbers <br>\n",
    "(20 points)\n",
    "\n",
    "### Write a code that takes a list of numbers and prints the list in reverse.\n",
    "\n",
    "### Test your code for the cases:\n",
    "- a) [4,5,6,1,2,3]\n",
    "- b) [1,1,1,3,4,5,6]\n"
   ]
  },
  {
   "cell_type": "code",
   "execution_count": null,
   "metadata": {},
   "outputs": [],
   "source": []
  },
  {
   "cell_type": "markdown",
   "metadata": {},
   "source": [
    "![](https://freight.cargo.site/w/1200/i/c96b2ce17b2aee95c6e837552e3e38d058ac4ad2a6759448ed78128963790744/Happy_Coding_BC_6-03-05.png)"
   ]
  }
 ],
 "metadata": {
  "kernelspec": {
   "display_name": "Python 3 (ipykernel)",
   "language": "python",
   "name": "python3"
  },
  "language_info": {
   "codemirror_mode": {
    "name": "ipython",
    "version": 3
   },
   "file_extension": ".py",
   "mimetype": "text/x-python",
   "name": "python",
   "nbconvert_exporter": "python",
   "pygments_lexer": "ipython3",
   "version": "3.12.4"
  }
 },
 "nbformat": 4,
 "nbformat_minor": 4
}

{
 "cells": [
  {
   "cell_type": "markdown",
   "metadata": {},
   "source": [
    "## Assignment-1 (100 points)"
   ]
  },
  {
   "cell_type": "markdown",
   "metadata": {},
   "source": [
    "**LAST NAME, FIRST NAME**\n",
    "\n",
    "**R00000000**"
   ]
  },
  {
   "cell_type": "code",
   "execution_count": null,
   "metadata": {},
   "outputs": [],
   "source": [
    "# RUN this cell and do not modify it\n",
    "import sys\n",
    "! hostname\n",
    "! whoami\n",
    "print(sys.executable)\n",
    "print(sys.version)\n",
    "print(sys.version_info)"
   ]
  },
  {
   "cell_type": "markdown",
   "metadata": {},
   "source": [
    "#### Exercise-1: Run the cell below **(15 points)**"
   ]
  },
  {
   "cell_type": "code",
   "execution_count": null,
   "metadata": {
    "collapsed": false,
    "jupyter": {
     "outputs_hidden": false
    }
   },
   "outputs": [],
   "source": [
    "print('Sup World?')\n",
    "print(3 + 2 )\n",
    "print('3 + 2')\n",
    "MyNumber = 3+2\n",
    "MyName = 'Dusty'\n",
    "print(MyName, MyNumber)\n",
    "print('MyName', 'MyNumber')"
   ]
  },
  {
   "cell_type": "markdown",
   "metadata": {},
   "source": [
    "**Answer the following questions based on the output**\n",
    "\n",
    "1.  What is the difference between `print(3 + 2)` and `print('3 + 2')`?\n",
    "\n",
    "2.  What is the difference between `print(MyName, MyNumber)` and `print('MyName', 'MyNumber')`?\n",
    "\n",
    "3.  Change `MyNumber = 3+2` to `MyNumber = 3+2.0`, and re-run the script; what happens? Why?"
   ]
  },
  {
   "cell_type": "markdown",
   "metadata": {},
   "source": [
    "**Write your answer in the markdown cell below:**"
   ]
  },
  {
   "cell_type": "markdown",
   "metadata": {},
   "source": []
  },
  {
   "cell_type": "markdown",
   "metadata": {},
   "source": [
    "#### Exercise-2: **(8 points)**\n",
    "**Create a simple script that illustrates the following types of variables**\n",
    "\n",
    "- integer\n",
    "- floating point (real)\n",
    "- string (alphanumeric)\n",
    "- boolean\n",
    "\n",
    "  by \n",
    "\n",
    "1. Assigning a value to a string, integer, float, and boolean variable.  Use meaningful names for each variable.\n",
    "2. Print the contents of each variable."
   ]
  },
  {
   "cell_type": "code",
   "execution_count": null,
   "metadata": {
    "collapsed": false,
    "jupyter": {
     "outputs_hidden": false
    }
   },
   "outputs": [],
   "source": []
  },
  {
   "cell_type": "markdown",
   "metadata": {},
   "source": [
    "#### Exercise-3: Get two floating point numbers via the input() function and store them under the variable names 'float1' and 'float2'.  Print 'float1' and 'float2' to the output screen.  Following this, check whether 'float1' is greater than or equal to 'float2'."
   ]
  },
  {
   "cell_type": "markdown",
   "metadata": {},
   "source": [
    "**(20 points)**"
   ]
  },
  {
   "cell_type": "code",
   "execution_count": null,
   "metadata": {
    "collapsed": false,
    "jupyter": {
     "outputs_hidden": false
    }
   },
   "outputs": [],
   "source": []
  },
  {
   "cell_type": "markdown",
   "metadata": {},
   "source": [
    "#### Exercise-4: Define the string below in quotes to a meaningful variable name. **(12 points)**\n",
    "\n",
    "'Computational Thinking'\n",
    "\n",
    "After initializing the variable:\n",
    "\n",
    "  1. Index and print all the elements from index positions 2 to 10.\n",
    "\n",
    "  2. Index and print the string 'Think' from 'Computational Thinking'."
   ]
  },
  {
   "cell_type": "code",
   "execution_count": null,
   "metadata": {},
   "outputs": [],
   "source": []
  },
  {
   "cell_type": "markdown",
   "metadata": {},
   "source": [
    "#### Exercise-5: **(30 points)**\n",
    "\n",
    "Create a Python program that does the following:\n",
    "\n",
    "1. Declare and initialize three variables:\n",
    "\n",
    "   - name as a string containing your name.\n",
    "   - age as an integer representing your age.\n",
    "   - height as a float representing your height in meters.\n",
    "3. Print a sentence that introduces yourself using the variables you declared. For example, \"My name is John Doe, I am 25 years old, and I am 1.75 meters tall.\"\n",
    "4. Concatenate the variables name, age, and height into a new string called the introduction.\n",
    "5. Print the introduction string.\n",
    "6. Format the introduction string using f-strings to include the variables in a more readable sentence.\n",
    "7. Print the formatted introduction string."
   ]
  },
  {
   "cell_type": "markdown",
   "metadata": {},
   "source": []
  },
  {
   "cell_type": "markdown",
   "metadata": {},
   "source": [
    "#### Exercise-6:  **(15 points)**"
   ]
  },
  {
   "cell_type": "markdown",
   "metadata": {},
   "source": [
    "Given the following string:\n",
    "\n",
    "sentence = \"Python is a powerful programming language.\" \n",
    "\n",
    "   1. Extract the first 10 characters of the sentence.\n",
    "   2. Extract the last word of the sentence.\n",
    "   3. Extract every other character(starting from the first) from the entire sentence.\n"
   ]
  },
  {
   "cell_type": "code",
   "execution_count": null,
   "metadata": {},
   "outputs": [],
   "source": []
  }
 ],
 "metadata": {
  "kernelspec": {
   "display_name": "Python 3 (ipykernel)",
   "language": "python",
   "name": "python3"
  },
  "language_info": {
   "codemirror_mode": {
    "name": "ipython",
    "version": 3
   },
   "file_extension": ".py",
   "mimetype": "text/x-python",
   "name": "python",
   "nbconvert_exporter": "python",
   "pygments_lexer": "ipython3",
   "version": "3.12.4"
  }
 },
 "nbformat": 4,
 "nbformat_minor": 4
}

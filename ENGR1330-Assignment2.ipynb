{
 "cells": [
  {
   "cell_type": "markdown",
   "metadata": {},
   "source": [
    "## Assignment-2 (100 points)\n",
    "\n"
   ]
  },
  {
   "cell_type": "markdown",
   "metadata": {},
   "source": [
    "**LAST NAME, FIRST NAME**\n",
    "\n",
    "**R#**"
   ]
  },
  {
   "cell_type": "code",
   "execution_count": null,
   "metadata": {},
   "outputs": [],
   "source": [
    "# RUN this cell and do not modify it\n",
    "import sys\n",
    "! hostname\n",
    "! whoami\n",
    "print(sys.executable)\n",
    "print(sys.version)\n",
    "print(sys.version_info)"
   ]
  },
  {
   "cell_type": "markdown",
   "metadata": {},
   "source": [
    "## Question0: Think, Design, Draw, Code!  <br>\n",
    "(20 points)\n",
    "#### The problem statement:\n",
    "> \"Calculate the average of any three numbers and report whether it is a whole number or not.\""
   ]
  },
  {
   "cell_type": "markdown",
   "metadata": {},
   "source": [
    "### A) Consider your solution (algorithm) and design your flowchart. Draw your flowchart (either on paper or using software  e.g. PowerPoint) and attach a screenshot."
   ]
  },
  {
   "cell_type": "markdown",
   "metadata": {},
   "source": [
    "---\n",
    "EDIT THIS MARKDOWN CELL\n",
    "\n",
    "\n",
    "---"
   ]
  },
  {
   "cell_type": "markdown",
   "metadata": {},
   "source": [
    "### B) Based on your flowchart, write the pseudocode.  "
   ]
  },
  {
   "cell_type": "markdown",
   "metadata": {},
   "source": [
    "---\n",
    "EDIT THIS MARKDOWN CELL\n",
    "\n",
    "\n",
    "---"
   ]
  },
  {
   "cell_type": "code",
   "execution_count": null,
   "metadata": {},
   "outputs": [],
   "source": []
  },
  {
   "cell_type": "markdown",
   "metadata": {},
   "source": [
    "### C) Based on your pseudocode, write your code in Python."
   ]
  },
  {
   "cell_type": "code",
   "execution_count": null,
   "metadata": {},
   "outputs": [],
   "source": []
  },
  {
   "cell_type": "markdown",
   "metadata": {},
   "source": [
    "### D) Test your code for these cases:\n",
    "\n",
    "- a) 10,2,1\n",
    "- b) 3,5,7\n",
    "- c) 2,6,-8"
   ]
  },
  {
   "cell_type": "code",
   "execution_count": null,
   "metadata": {},
   "outputs": [],
   "source": []
  },
  {
   "cell_type": "code",
   "execution_count": null,
   "metadata": {},
   "outputs": [],
   "source": []
  },
  {
   "cell_type": "code",
   "execution_count": null,
   "metadata": {},
   "outputs": [],
   "source": []
  },
  {
   "cell_type": "markdown",
   "metadata": {},
   "source": [
    "### E) What kind of structures did you use? sequential? selection? or both? why?\n"
   ]
  },
  {
   "cell_type": "markdown",
   "metadata": {},
   "source": [
    "---\n",
    "EDIT THIS MARKDOWN CELL\n",
    "\n",
    "\n",
    "---"
   ]
  },
  {
   "cell_type": "markdown",
   "metadata": {},
   "source": [
    "___\n",
    "___"
   ]
  },
  {
   "cell_type": "markdown",
   "metadata": {},
   "source": [
    "## Question1: Password checker <br>\n",
    "\n",
    "(20 points)\n",
    "\n",
    "### Write a code based on the description below:\n",
    "\n",
    "\n",
    "> Ask the user to come up with a password. <br> \n",
    "    **Tell the user that the password must begin and end with a number.** <br>\n",
    "    **Check if the password meets the criteria; if not let user know with an appropriate message.** <br>\n",
    "    **If the character meets the criteria, then check if it is a weak or a strong password and let the user know with an appropriate message.** <br>\n",
    "    (if the password's length is grater than ten characters, it is a strong password; if no,t it is weak) <br>\n"
   ]
  },
  {
   "cell_type": "code",
   "execution_count": null,
   "metadata": {},
   "outputs": [],
   "source": []
  },
  {
   "cell_type": "markdown",
   "metadata": {},
   "source": [
    "## Question2: What if if if ... <br>\n",
    "(20 points)\n",
    "\n",
    "### Write a code based on the description below:\n",
    "\n",
    "> Receive an integer from the user between 0 and 9, <br>\n",
    "    if the number is **greater than 5** and **divisible by 3**, calculate its third power and print the value with an appropriate statement <br>\n",
    "    if the number is **lower than 5** and **divisible by 2**, calculate its summation with 10 and print the value with an appropriate statement <br>\n",
    "    if the number is **equal to 5**, print **\"High Five!\"** <br>\n",
    "    else, print the number <br>\n",
    "\n",
    "### Test your code for these cases:\n",
    "- a) 6\n",
    "- b) 4\n",
    "- c) 5\n",
    "- d) 0\n"
   ]
  },
  {
   "cell_type": "code",
   "execution_count": null,
   "metadata": {},
   "outputs": [],
   "source": []
  },
  {
   "cell_type": "markdown",
   "metadata": {},
   "source": [
    "## Question3: <br>\n",
    "(20 points)\n",
    "### Write a code that checks if a given list contains any duplicates using sets.\n",
    "\n",
    "### Test your code for these two cases:\n",
    "- a) [1,2,3,4,5,5,6,6,7]\n",
    "- b) [4,5,6,7,8,9]"
   ]
  },
  {
   "cell_type": "code",
   "execution_count": null,
   "metadata": {},
   "outputs": [],
   "source": []
  },
  {
   "cell_type": "markdown",
   "metadata": {},
   "source": [
    "## Question4: Tip Calculator <br>\n",
    "(20 points)\n",
    "\n",
    "Given the price, ask the user if they want to include a tip.\n",
    "\n",
    "If yes, then ask them to choose a tip percentage from the following options: 10%, 15%, 20%, or a custom amount.\n",
    "\n",
    "Based on their selection, calculate the tip amount and print the total price (including the tip) and how much the tip is.\n",
    "\n",
    "### Test your code for the cases:\n",
    "- a) 122.89\n",
    "- b) 0\n",
    "- c) 79"
   ]
  },
  {
   "cell_type": "code",
   "execution_count": null,
   "metadata": {},
   "outputs": [],
   "source": []
  },
  {
   "cell_type": "markdown",
   "metadata": {},
   "source": [
    "![](https://freight.cargo.site/w/1200/i/c96b2ce17b2aee95c6e837552e3e38d058ac4ad2a6759448ed78128963790744/Happy_Coding_BC_6-03-05.png)"
   ]
  }
 ],
 "metadata": {
  "kernelspec": {
   "display_name": "Python 3 (ipykernel)",
   "language": "python",
   "name": "python3"
  },
  "language_info": {
   "codemirror_mode": {
    "name": "ipython",
    "version": 3
   },
   "file_extension": ".py",
   "mimetype": "text/x-python",
   "name": "python",
   "nbconvert_exporter": "python",
   "pygments_lexer": "ipython3",
   "version": "3.12.4"
  }
 },
 "nbformat": 4,
 "nbformat_minor": 4
}
